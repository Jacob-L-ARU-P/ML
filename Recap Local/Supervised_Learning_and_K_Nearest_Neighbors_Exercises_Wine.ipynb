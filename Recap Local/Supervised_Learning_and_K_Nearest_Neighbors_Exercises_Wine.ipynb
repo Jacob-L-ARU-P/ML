{
  "cells": [
    {
      "cell_type": "markdown",
      "metadata": {
        "id": "qFLNIG3T6IsZ"
      },
      "source": [
        "# Supervised Learning and K Nearest Neighbors Exercises"
      ]
    },
    {
      "cell_type": "markdown",
      "source": [],
      "metadata": {
        "id": "XgoWIoWuw724"
      }
    },
    {
      "cell_type": "markdown",
      "metadata": {
        "id": "Iq7TIYmZ6Isa"
      },
      "source": [
        "# Learning Objectives:\n",
        "\n",
        "- Explain supervised learning and how it can be applied to regression and classification problems\n",
        "- Apply K-Nearest Neighbor (KNN) algorithm for classification\n",
        "- Apply Intel® Extension for Scikit-learn* to leverage underlying compute capabilities of hardware\n",
        "\n",
        "# scikit-learn*\n",
        "\n",
        "Frameworks provide structure that Data Scientists use to build code. Frameworks are more than just libraries, because in addition to callable code, frameworks influence how code is written.\n",
        "\n",
        "A main virtue of using an optimized framework is that code runs faster. Code that runs faster is just generally more convenient but when we begin looking at applied data science and AI models, we can see more material benefits. Here you will see how optimization, particularly hyperparameter optimization can benefit more than just speed.\n",
        "\n",
        "These exercises will demonstrate how to apply **the Intel® Extension for Scikit-learn*,** a seamless way to speed up your Scikit-learn application. The acceleration is achieved through the use of the Intel® oneAPI Data Analytics Library (oneDAL). Patching is the term used to extend scikit-learn with Intel optimizations and makes it a well-suited machine learning framework for dealing with real-life problems.\n",
        "\n",
        "To get optimized versions of many Scikit-learn algorithms using a patch() approach consisting of adding these lines of code after importing sklearn:\n",
        "\n",
        "- **from sklearnex import patch_sklearn**\n",
        "- **patch_sklearn()**\n",
        "\n",
        "## This exercise relies on installation of  Intel® Extension for Scikit-learn*\n",
        "\n",
        "If you have not already done so, follow the instructions from Week 1 for instructions\n"
      ]
    },
    {
      "cell_type": "markdown",
      "metadata": {
        "id": "ZpbBqLie6Isa"
      },
      "source": [
        "## Introduction\n",
        "\n",
        "We will be using customer churn data from the telecom industry for the first week's exercises. The data file is called\n",
        "`Orange_Telecom_Churn_Data.csv`. We will load this data together, do some preprocessing, and use K-nearest neighbors to predict customer churn based on account characteristics."
      ]
    },
    {
      "cell_type": "code",
      "execution_count": null,
      "metadata": {
        "ExecuteTime": {
          "end_time": "2021-09-24T17:39:25.142951Z",
          "start_time": "2021-09-24T17:39:18.604715Z"
        },
        "colab": {
          "base_uri": "https://localhost:8080/"
        },
        "id": "GEZm4skq6Isa",
        "outputId": "664a34eb-be48-40f3-9abc-aac205f68135"
      },
      "outputs": [
        {
          "output_type": "stream",
          "name": "stdout",
          "text": [
            "Collecting scikit-learn-intelex\n",
            "  Downloading scikit_learn_intelex-2024.1.0-py310-none-manylinux1_x86_64.whl (131 kB)\n",
            "\u001b[2K     \u001b[90m━━━━━━━━━━━━━━━━━━━━━━━━━━━━━━━━━━━━━━━━\u001b[0m \u001b[32m131.8/131.8 kB\u001b[0m \u001b[31m2.6 MB/s\u001b[0m eta \u001b[36m0:00:00\u001b[0m\n",
            "\u001b[?25hCollecting daal4py==2024.1.0 (from scikit-learn-intelex)\n",
            "  Downloading daal4py-2024.1.0-py310-none-manylinux1_x86_64.whl (10.1 MB)\n",
            "\u001b[2K     \u001b[90m━━━━━━━━━━━━━━━━━━━━━━━━━━━━━━━━━━━━━━━━\u001b[0m \u001b[32m10.1/10.1 MB\u001b[0m \u001b[31m16.5 MB/s\u001b[0m eta \u001b[36m0:00:00\u001b[0m\n",
            "\u001b[?25hRequirement already satisfied: scikit-learn>=0.22 in /usr/local/lib/python3.10/dist-packages (from scikit-learn-intelex) (1.2.2)\n",
            "Collecting daal==2024.1.0 (from daal4py==2024.1.0->scikit-learn-intelex)\n",
            "  Downloading daal-2024.1.0-py2.py3-none-manylinux1_x86_64.whl (75.3 MB)\n",
            "\u001b[2K     \u001b[90m━━━━━━━━━━━━━━━━━━━━━━━━━━━━━━━━━━━━━━━━\u001b[0m \u001b[32m75.3/75.3 MB\u001b[0m \u001b[31m8.9 MB/s\u001b[0m eta \u001b[36m0:00:00\u001b[0m\n",
            "\u001b[?25hRequirement already satisfied: numpy>=1.19 in /usr/local/lib/python3.10/dist-packages (from daal4py==2024.1.0->scikit-learn-intelex) (1.23.5)\n",
            "Requirement already satisfied: tbb==2021.* in /usr/local/lib/python3.10/dist-packages (from daal==2024.1.0->daal4py==2024.1.0->scikit-learn-intelex) (2021.11.0)\n",
            "Requirement already satisfied: scipy>=1.3.2 in /usr/local/lib/python3.10/dist-packages (from scikit-learn>=0.22->scikit-learn-intelex) (1.11.4)\n",
            "Requirement already satisfied: joblib>=1.1.1 in /usr/local/lib/python3.10/dist-packages (from scikit-learn>=0.22->scikit-learn-intelex) (1.3.2)\n",
            "Requirement already satisfied: threadpoolctl>=2.0.0 in /usr/local/lib/python3.10/dist-packages (from scikit-learn>=0.22->scikit-learn-intelex) (3.2.0)\n",
            "Installing collected packages: daal, daal4py, scikit-learn-intelex\n",
            "Successfully installed daal-2024.1.0 daal4py-2024.1.0 scikit-learn-intelex-2024.1.0\n"
          ]
        },
        {
          "output_type": "stream",
          "name": "stderr",
          "text": [
            "Intel(R) Extension for Scikit-learn* enabled (https://github.com/intel/scikit-learn-intelex)\n"
          ]
        }
      ],
      "source": [
        "!pip install scikit-learn-intelex\n",
        "from __future__ import print_function\n",
        "import os\n",
        "data_path = ['data']\n",
        "\n",
        "from sklearn.preprocessing import StandardScaler\n",
        "from sklearn.preprocessing import LabelBinarizer\n",
        "from sklearn.preprocessing import MinMaxScaler\n",
        "from sklearn.neighbors import KNeighborsClassifier\n",
        "from sklearnex import patch_sklearn\n",
        "patch_sklearn()\n",
        "\n"
      ]
    },
    {
      "cell_type": "markdown",
      "metadata": {
        "id": "uHBPqEzr6Isb"
      },
      "source": [
        "## Step 1\n",
        "\n",
        "* Begin by importing the data. Examine the columns and data.\n",
        "* Notice that the data contains a state, area code, and phone number. Do you think these are good features to use when building a machine learning model? Why or why not?\n",
        "\n",
        "We will not be using them, so they can be dropped from the data."
      ]
    },
    {
      "cell_type": "code",
      "execution_count": null,
      "metadata": {
        "ExecuteTime": {
          "end_time": "2021-09-24T17:39:25.235951Z",
          "start_time": "2021-09-24T17:39:25.146960Z"
        },
        "id": "UXloqnzD6Isb"
      },
      "outputs": [],
      "source": [
        "import pandas as pd\n",
        "\n",
        "# Import the data using the file path\n",
        "filepath = 'Wine_Quality_Data.csv'\n",
        "data = pd.read_csv(filepath)"
      ]
    },
    {
      "cell_type": "code",
      "execution_count": null,
      "metadata": {
        "ExecuteTime": {
          "end_time": "2021-09-24T17:39:27.802971Z",
          "start_time": "2021-09-24T17:39:25.239953Z"
        },
        "colab": {
          "base_uri": "https://localhost:8080/",
          "height": 457
        },
        "id": "MHZTKf7V6Isb",
        "outputId": "09636bdd-d6d9-4a38-a7bc-f256d1e4affa"
      },
      "outputs": [
        {
          "output_type": "execute_result",
          "data": {
            "text/plain": [
              "                           0       1      2      3       4\n",
              "fixed_acidity            7.4     7.8    7.8   11.2     7.4\n",
              "volatile_acidity         0.7    0.88   0.76   0.28     0.7\n",
              "citric_acid              0.0     0.0   0.04   0.56     0.0\n",
              "residual_sugar           1.9     2.6    2.3    1.9     1.9\n",
              "chlorides              0.076   0.098  0.092  0.075   0.076\n",
              "free_sulfur_dioxide     11.0    25.0   15.0   17.0    11.0\n",
              "total_sulfur_dioxide    34.0    67.0   54.0   60.0    34.0\n",
              "density               0.9978  0.9968  0.997  0.998  0.9978\n",
              "pH                      3.51     3.2   3.26   3.16    3.51\n",
              "sulphates               0.56    0.68   0.65   0.58    0.56\n",
              "alcohol                  9.4     9.8    9.8    9.8     9.4\n",
              "quality                    5       5      5      6       5\n",
              "color                    red     red    red    red     red"
            ],
            "text/html": [
              "\n",
              "  <div id=\"df-9f858b93-8101-4fb1-b859-e339abe7ec1f\" class=\"colab-df-container\">\n",
              "    <div>\n",
              "<style scoped>\n",
              "    .dataframe tbody tr th:only-of-type {\n",
              "        vertical-align: middle;\n",
              "    }\n",
              "\n",
              "    .dataframe tbody tr th {\n",
              "        vertical-align: top;\n",
              "    }\n",
              "\n",
              "    .dataframe thead th {\n",
              "        text-align: right;\n",
              "    }\n",
              "</style>\n",
              "<table border=\"1\" class=\"dataframe\">\n",
              "  <thead>\n",
              "    <tr style=\"text-align: right;\">\n",
              "      <th></th>\n",
              "      <th>0</th>\n",
              "      <th>1</th>\n",
              "      <th>2</th>\n",
              "      <th>3</th>\n",
              "      <th>4</th>\n",
              "    </tr>\n",
              "  </thead>\n",
              "  <tbody>\n",
              "    <tr>\n",
              "      <th>fixed_acidity</th>\n",
              "      <td>7.4</td>\n",
              "      <td>7.8</td>\n",
              "      <td>7.8</td>\n",
              "      <td>11.2</td>\n",
              "      <td>7.4</td>\n",
              "    </tr>\n",
              "    <tr>\n",
              "      <th>volatile_acidity</th>\n",
              "      <td>0.7</td>\n",
              "      <td>0.88</td>\n",
              "      <td>0.76</td>\n",
              "      <td>0.28</td>\n",
              "      <td>0.7</td>\n",
              "    </tr>\n",
              "    <tr>\n",
              "      <th>citric_acid</th>\n",
              "      <td>0.0</td>\n",
              "      <td>0.0</td>\n",
              "      <td>0.04</td>\n",
              "      <td>0.56</td>\n",
              "      <td>0.0</td>\n",
              "    </tr>\n",
              "    <tr>\n",
              "      <th>residual_sugar</th>\n",
              "      <td>1.9</td>\n",
              "      <td>2.6</td>\n",
              "      <td>2.3</td>\n",
              "      <td>1.9</td>\n",
              "      <td>1.9</td>\n",
              "    </tr>\n",
              "    <tr>\n",
              "      <th>chlorides</th>\n",
              "      <td>0.076</td>\n",
              "      <td>0.098</td>\n",
              "      <td>0.092</td>\n",
              "      <td>0.075</td>\n",
              "      <td>0.076</td>\n",
              "    </tr>\n",
              "    <tr>\n",
              "      <th>free_sulfur_dioxide</th>\n",
              "      <td>11.0</td>\n",
              "      <td>25.0</td>\n",
              "      <td>15.0</td>\n",
              "      <td>17.0</td>\n",
              "      <td>11.0</td>\n",
              "    </tr>\n",
              "    <tr>\n",
              "      <th>total_sulfur_dioxide</th>\n",
              "      <td>34.0</td>\n",
              "      <td>67.0</td>\n",
              "      <td>54.0</td>\n",
              "      <td>60.0</td>\n",
              "      <td>34.0</td>\n",
              "    </tr>\n",
              "    <tr>\n",
              "      <th>density</th>\n",
              "      <td>0.9978</td>\n",
              "      <td>0.9968</td>\n",
              "      <td>0.997</td>\n",
              "      <td>0.998</td>\n",
              "      <td>0.9978</td>\n",
              "    </tr>\n",
              "    <tr>\n",
              "      <th>pH</th>\n",
              "      <td>3.51</td>\n",
              "      <td>3.2</td>\n",
              "      <td>3.26</td>\n",
              "      <td>3.16</td>\n",
              "      <td>3.51</td>\n",
              "    </tr>\n",
              "    <tr>\n",
              "      <th>sulphates</th>\n",
              "      <td>0.56</td>\n",
              "      <td>0.68</td>\n",
              "      <td>0.65</td>\n",
              "      <td>0.58</td>\n",
              "      <td>0.56</td>\n",
              "    </tr>\n",
              "    <tr>\n",
              "      <th>alcohol</th>\n",
              "      <td>9.4</td>\n",
              "      <td>9.8</td>\n",
              "      <td>9.8</td>\n",
              "      <td>9.8</td>\n",
              "      <td>9.4</td>\n",
              "    </tr>\n",
              "    <tr>\n",
              "      <th>quality</th>\n",
              "      <td>5</td>\n",
              "      <td>5</td>\n",
              "      <td>5</td>\n",
              "      <td>6</td>\n",
              "      <td>5</td>\n",
              "    </tr>\n",
              "    <tr>\n",
              "      <th>color</th>\n",
              "      <td>red</td>\n",
              "      <td>red</td>\n",
              "      <td>red</td>\n",
              "      <td>red</td>\n",
              "      <td>red</td>\n",
              "    </tr>\n",
              "  </tbody>\n",
              "</table>\n",
              "</div>\n",
              "    <div class=\"colab-df-buttons\">\n",
              "\n",
              "  <div class=\"colab-df-container\">\n",
              "    <button class=\"colab-df-convert\" onclick=\"convertToInteractive('df-9f858b93-8101-4fb1-b859-e339abe7ec1f')\"\n",
              "            title=\"Convert this dataframe to an interactive table.\"\n",
              "            style=\"display:none;\">\n",
              "\n",
              "  <svg xmlns=\"http://www.w3.org/2000/svg\" height=\"24px\" viewBox=\"0 -960 960 960\">\n",
              "    <path d=\"M120-120v-720h720v720H120Zm60-500h600v-160H180v160Zm220 220h160v-160H400v160Zm0 220h160v-160H400v160ZM180-400h160v-160H180v160Zm440 0h160v-160H620v160ZM180-180h160v-160H180v160Zm440 0h160v-160H620v160Z\"/>\n",
              "  </svg>\n",
              "    </button>\n",
              "\n",
              "  <style>\n",
              "    .colab-df-container {\n",
              "      display:flex;\n",
              "      gap: 12px;\n",
              "    }\n",
              "\n",
              "    .colab-df-convert {\n",
              "      background-color: #E8F0FE;\n",
              "      border: none;\n",
              "      border-radius: 50%;\n",
              "      cursor: pointer;\n",
              "      display: none;\n",
              "      fill: #1967D2;\n",
              "      height: 32px;\n",
              "      padding: 0 0 0 0;\n",
              "      width: 32px;\n",
              "    }\n",
              "\n",
              "    .colab-df-convert:hover {\n",
              "      background-color: #E2EBFA;\n",
              "      box-shadow: 0px 1px 2px rgba(60, 64, 67, 0.3), 0px 1px 3px 1px rgba(60, 64, 67, 0.15);\n",
              "      fill: #174EA6;\n",
              "    }\n",
              "\n",
              "    .colab-df-buttons div {\n",
              "      margin-bottom: 4px;\n",
              "    }\n",
              "\n",
              "    [theme=dark] .colab-df-convert {\n",
              "      background-color: #3B4455;\n",
              "      fill: #D2E3FC;\n",
              "    }\n",
              "\n",
              "    [theme=dark] .colab-df-convert:hover {\n",
              "      background-color: #434B5C;\n",
              "      box-shadow: 0px 1px 3px 1px rgba(0, 0, 0, 0.15);\n",
              "      filter: drop-shadow(0px 1px 2px rgba(0, 0, 0, 0.3));\n",
              "      fill: #FFFFFF;\n",
              "    }\n",
              "  </style>\n",
              "\n",
              "    <script>\n",
              "      const buttonEl =\n",
              "        document.querySelector('#df-9f858b93-8101-4fb1-b859-e339abe7ec1f button.colab-df-convert');\n",
              "      buttonEl.style.display =\n",
              "        google.colab.kernel.accessAllowed ? 'block' : 'none';\n",
              "\n",
              "      async function convertToInteractive(key) {\n",
              "        const element = document.querySelector('#df-9f858b93-8101-4fb1-b859-e339abe7ec1f');\n",
              "        const dataTable =\n",
              "          await google.colab.kernel.invokeFunction('convertToInteractive',\n",
              "                                                    [key], {});\n",
              "        if (!dataTable) return;\n",
              "\n",
              "        const docLinkHtml = 'Like what you see? Visit the ' +\n",
              "          '<a target=\"_blank\" href=https://colab.research.google.com/notebooks/data_table.ipynb>data table notebook</a>'\n",
              "          + ' to learn more about interactive tables.';\n",
              "        element.innerHTML = '';\n",
              "        dataTable['output_type'] = 'display_data';\n",
              "        await google.colab.output.renderOutput(dataTable, element);\n",
              "        const docLink = document.createElement('div');\n",
              "        docLink.innerHTML = docLinkHtml;\n",
              "        element.appendChild(docLink);\n",
              "      }\n",
              "    </script>\n",
              "  </div>\n",
              "\n",
              "\n",
              "<div id=\"df-2fca665a-3371-40cd-bf98-ecc9b678530e\">\n",
              "  <button class=\"colab-df-quickchart\" onclick=\"quickchart('df-2fca665a-3371-40cd-bf98-ecc9b678530e')\"\n",
              "            title=\"Suggest charts\"\n",
              "            style=\"display:none;\">\n",
              "\n",
              "<svg xmlns=\"http://www.w3.org/2000/svg\" height=\"24px\"viewBox=\"0 0 24 24\"\n",
              "     width=\"24px\">\n",
              "    <g>\n",
              "        <path d=\"M19 3H5c-1.1 0-2 .9-2 2v14c0 1.1.9 2 2 2h14c1.1 0 2-.9 2-2V5c0-1.1-.9-2-2-2zM9 17H7v-7h2v7zm4 0h-2V7h2v10zm4 0h-2v-4h2v4z\"/>\n",
              "    </g>\n",
              "</svg>\n",
              "  </button>\n",
              "\n",
              "<style>\n",
              "  .colab-df-quickchart {\n",
              "      --bg-color: #E8F0FE;\n",
              "      --fill-color: #1967D2;\n",
              "      --hover-bg-color: #E2EBFA;\n",
              "      --hover-fill-color: #174EA6;\n",
              "      --disabled-fill-color: #AAA;\n",
              "      --disabled-bg-color: #DDD;\n",
              "  }\n",
              "\n",
              "  [theme=dark] .colab-df-quickchart {\n",
              "      --bg-color: #3B4455;\n",
              "      --fill-color: #D2E3FC;\n",
              "      --hover-bg-color: #434B5C;\n",
              "      --hover-fill-color: #FFFFFF;\n",
              "      --disabled-bg-color: #3B4455;\n",
              "      --disabled-fill-color: #666;\n",
              "  }\n",
              "\n",
              "  .colab-df-quickchart {\n",
              "    background-color: var(--bg-color);\n",
              "    border: none;\n",
              "    border-radius: 50%;\n",
              "    cursor: pointer;\n",
              "    display: none;\n",
              "    fill: var(--fill-color);\n",
              "    height: 32px;\n",
              "    padding: 0;\n",
              "    width: 32px;\n",
              "  }\n",
              "\n",
              "  .colab-df-quickchart:hover {\n",
              "    background-color: var(--hover-bg-color);\n",
              "    box-shadow: 0 1px 2px rgba(60, 64, 67, 0.3), 0 1px 3px 1px rgba(60, 64, 67, 0.15);\n",
              "    fill: var(--button-hover-fill-color);\n",
              "  }\n",
              "\n",
              "  .colab-df-quickchart-complete:disabled,\n",
              "  .colab-df-quickchart-complete:disabled:hover {\n",
              "    background-color: var(--disabled-bg-color);\n",
              "    fill: var(--disabled-fill-color);\n",
              "    box-shadow: none;\n",
              "  }\n",
              "\n",
              "  .colab-df-spinner {\n",
              "    border: 2px solid var(--fill-color);\n",
              "    border-color: transparent;\n",
              "    border-bottom-color: var(--fill-color);\n",
              "    animation:\n",
              "      spin 1s steps(1) infinite;\n",
              "  }\n",
              "\n",
              "  @keyframes spin {\n",
              "    0% {\n",
              "      border-color: transparent;\n",
              "      border-bottom-color: var(--fill-color);\n",
              "      border-left-color: var(--fill-color);\n",
              "    }\n",
              "    20% {\n",
              "      border-color: transparent;\n",
              "      border-left-color: var(--fill-color);\n",
              "      border-top-color: var(--fill-color);\n",
              "    }\n",
              "    30% {\n",
              "      border-color: transparent;\n",
              "      border-left-color: var(--fill-color);\n",
              "      border-top-color: var(--fill-color);\n",
              "      border-right-color: var(--fill-color);\n",
              "    }\n",
              "    40% {\n",
              "      border-color: transparent;\n",
              "      border-right-color: var(--fill-color);\n",
              "      border-top-color: var(--fill-color);\n",
              "    }\n",
              "    60% {\n",
              "      border-color: transparent;\n",
              "      border-right-color: var(--fill-color);\n",
              "    }\n",
              "    80% {\n",
              "      border-color: transparent;\n",
              "      border-right-color: var(--fill-color);\n",
              "      border-bottom-color: var(--fill-color);\n",
              "    }\n",
              "    90% {\n",
              "      border-color: transparent;\n",
              "      border-bottom-color: var(--fill-color);\n",
              "    }\n",
              "  }\n",
              "</style>\n",
              "\n",
              "  <script>\n",
              "    async function quickchart(key) {\n",
              "      const quickchartButtonEl =\n",
              "        document.querySelector('#' + key + ' button');\n",
              "      quickchartButtonEl.disabled = true;  // To prevent multiple clicks.\n",
              "      quickchartButtonEl.classList.add('colab-df-spinner');\n",
              "      try {\n",
              "        const charts = await google.colab.kernel.invokeFunction(\n",
              "            'suggestCharts', [key], {});\n",
              "      } catch (error) {\n",
              "        console.error('Error during call to suggestCharts:', error);\n",
              "      }\n",
              "      quickchartButtonEl.classList.remove('colab-df-spinner');\n",
              "      quickchartButtonEl.classList.add('colab-df-quickchart-complete');\n",
              "    }\n",
              "    (() => {\n",
              "      let quickchartButtonEl =\n",
              "        document.querySelector('#df-2fca665a-3371-40cd-bf98-ecc9b678530e button');\n",
              "      quickchartButtonEl.style.display =\n",
              "        google.colab.kernel.accessAllowed ? 'block' : 'none';\n",
              "    })();\n",
              "  </script>\n",
              "</div>\n",
              "    </div>\n",
              "  </div>\n"
            ]
          },
          "metadata": {},
          "execution_count": 3
        }
      ],
      "source": [
        "#Inspect the data\n",
        "data.head().T\n"
      ]
    },
    {
      "cell_type": "markdown",
      "metadata": {
        "id": "bHg_a-xa6Isb"
      },
      "source": [
        "data.head(1) retrieves the first row of the DataFrame. The head function is typically used to quickly inspect the initial few rows of a DataFrame, with the argument 1 indicating the number of rows to return.\n",
        "\n",
        ".T is used to transpose the output. Transposing swaps the rows and columns. This is particularly useful when you have many columns and want to view them as rows for better readability."
      ]
    },
    {
      "cell_type": "code",
      "execution_count": null,
      "metadata": {
        "ExecuteTime": {
          "end_time": "2021-09-24T17:39:27.818976Z",
          "start_time": "2021-09-24T17:39:27.806968Z"
        },
        "id": "40fFPwOi6Isb"
      },
      "outputs": [],
      "source": [
        "# Remove extraneous columns\n",
        "# data.drop(['state', 'phone_number', 'area_code'], axis=1, inplace=True)"
      ]
    },
    {
      "cell_type": "markdown",
      "metadata": {
        "id": "a0P35-4k6Isb"
      },
      "source": [
        "This line removes the columns 'state', 'area_code', and 'phone_number' from the DataFrame.\n",
        "\n",
        "* The drop method is used for this purpose, where the first argument is a list of column names to be removed.\n",
        "\n",
        "* axis=1 specifies that columns should be dropped. (For dropping rows, you would use axis=0).\n",
        "\n",
        "* inplace=True modifies the DataFrame in place. Without this, the drop method would return a new DataFrame with the specified columns removed, but data would remain unchanged."
      ]
    },
    {
      "cell_type": "code",
      "execution_count": null,
      "metadata": {
        "colab": {
          "base_uri": "https://localhost:8080/"
        },
        "id": "8SjEni6y6Isb",
        "outputId": "28e9264a-d1e5-4fb7-bbac-c44987e9a3b5"
      },
      "outputs": [
        {
          "output_type": "execute_result",
          "data": {
            "text/plain": [
              "Index(['fixed_acidity', 'volatile_acidity', 'citric_acid', 'residual_sugar',\n",
              "       'chlorides', 'free_sulfur_dioxide', 'total_sulfur_dioxide', 'density',\n",
              "       'pH', 'sulphates', 'alcohol', 'quality', 'color'],\n",
              "      dtype='object')"
            ]
          },
          "metadata": {},
          "execution_count": 4
        }
      ],
      "source": [
        "#Inspect the column names\n",
        "data.columns\n"
      ]
    },
    {
      "cell_type": "markdown",
      "metadata": {
        "id": "dMUwd1WG6Isc"
      },
      "source": [
        "The line data.columns is used to retrieve the column names of the DataFrame data. This is a common operation in data analysis, especially when you're familiarizing yourself with a new dataset or have modified the dataset by adding, removing, or renaming columns."
      ]
    },
    {
      "cell_type": "markdown",
      "metadata": {
        "id": "HEac2oJH6Isc"
      },
      "source": [
        "## Step 2\n",
        "\n",
        "* Notice that some of the columns are categorical data and some are floats. These features will need to be numerically encoded using one of the methods from the lecture.\n",
        "* Finally, remember from the lecture that K-nearest neighbors requires scaled data. Scale the data using one of the scaling methods discussed in the lecture."
      ]
    },
    {
      "cell_type": "code",
      "execution_count": null,
      "metadata": {
        "id": "4-njhn346Isc"
      },
      "outputs": [],
      "source": [
        "#Preprocess the category data\n",
        "lb = LabelBinarizer()\n",
        "\n",
        "for col in ['color']:\n",
        "  data[col] = lb.fit_transform(data[col])\n"
      ]
    },
    {
      "cell_type": "markdown",
      "metadata": {
        "id": "kdkS6KDf6Isc"
      },
      "source": [
        "LabelBinarizer is a preprocessing tool used to convert categorical data into a format that can be used by machine learning algorithms. It essentially transforms each category into a new column with binary values (0 or 1).\n",
        "\n",
        "The code is iterating over a list of column names: ['intl_plan', 'voice_mail_plan', 'churned'].\n",
        "\n",
        "For each of these columns, it applies the fit_transform method of the LabelBinarizer object lb.\n",
        "\n",
        "fit_transform does two things:\n",
        "\n",
        "* fit part learns the mapping from the original categories to binary values. For example, if 'intl_plan' has categories like 'yes' and 'no', it will learn to map 'yes' to 1 and 'no' to 0.\n",
        "* transform part applies this mapping to the column, converting each entry into its corresponding binary value.\n",
        "\n",
        "The transformed column then replaces the original column in the DataFrame data."
      ]
    },
    {
      "cell_type": "code",
      "execution_count": null,
      "metadata": {
        "ExecuteTime": {
          "end_time": "2021-09-24T17:39:29.462033Z",
          "start_time": "2021-09-24T17:39:28.057969Z"
        },
        "id": "mDK-OxyM6Isc"
      },
      "outputs": [],
      "source": [
        "# Mute the sklearn warning and scale the data\n",
        "import warnings\n",
        "warnings.filterwarnings('ignore', module= 'sklearn')\n",
        "\n",
        "msc = MinMaxScaler()\n",
        "\n",
        "data = pd.DataFrame(msc.fit_transform(data), columns= data.columns)"
      ]
    },
    {
      "cell_type": "markdown",
      "metadata": {
        "id": "r4sAdNvT6Isc"
      },
      "source": [
        "MinMaxScaler is a tool from the scikit-learn library used to scale features to a given range, often between 0 and 1.\n",
        "* This line initializes the MinMaxScaler and assigns it to the variable msc.\n",
        "\n",
        "msc.fit_transform(data) scales the data. The fit part computes the minimum and maximum values of each feature (column) to be used in scaling. The transform part scales the features of data from 0 to 1 based on these computed values.\n",
        "\n",
        "The result of msc.fit_transform(data) is a NumPy array. This array is then used to create a new DataFrame.\n",
        "\n",
        "pd.DataFrame(..., columns=data.columns) ensures that the new DataFrame has the same column names as the original data DataFrame.\n",
        "\n",
        "This step is important as scaling is a common requirement for many machine learning algorithms, including KNN. It ensures that all features contribute equally to the result and improves the performance of distance-based algorithms."
      ]
    },
    {
      "cell_type": "markdown",
      "metadata": {
        "id": "dBSRx9Ps6Isc"
      },
      "source": [
        "## Step 3\n",
        "\n",
        "* Separate the feature columns (everything except `churned`) from the label (`churned`). This will create two tables.\n",
        "* Fit a K-nearest neighbors model with a value of `k=3` to this data and predict the outcome on the same data."
      ]
    },
    {
      "cell_type": "code",
      "execution_count": null,
      "metadata": {
        "ExecuteTime": {
          "end_time": "2021-09-24T17:39:29.478033Z",
          "start_time": "2021-09-24T17:39:29.468035Z"
        },
        "id": "JbRrtwaB6Isc"
      },
      "outputs": [],
      "source": [
        "# Get a list of all the columns that don't contain the label\n",
        "x_cols = [x for x in data.columns if x != 'color']\n",
        "\n",
        "# Split the data into two dataframes\n",
        "x_data = data[x_cols]\n",
        "y_data = data['color']\n"
      ]
    },
    {
      "cell_type": "markdown",
      "metadata": {
        "id": "0mJEKaRd6Isc"
      },
      "source": [
        "The first line creates a list comprehension to select all columns from the DataFrame data except the column named 'churned'.\n",
        "* x_cols will therefore contain the names of all columns that are not the target variable ('churned'). In machine learning terminology, these are your features or predictors.\n",
        "\n",
        "Next, X_data is created by selecting the columns listed in x_cols from the DataFrame data.\n",
        "* This results in a DataFrame X_data that contains all the columns (features) that will be used for training the machine learning model, excluding the target variable.\n",
        "\n",
        "Then we extract the column 'churned' from data and assigns it to y_data.\n",
        "* y_data is the target variable for the model, the outcome you are trying to predict. In this case, it appears to represent whether a customer has churned."
      ]
    },
    {
      "cell_type": "code",
      "execution_count": null,
      "metadata": {
        "id": "5uS1EUNC6Isc"
      },
      "outputs": [],
      "source": [
        "#Use KNN to train the model and then make a prediction\n",
        "knn = KNeighborsClassifier(n_neighbors=3)\n",
        "\n",
        "knn = knn.fit(x_data, y_data)\n",
        "\n",
        "y_pred = knn.predict(x_data)"
      ]
    },
    {
      "cell_type": "markdown",
      "metadata": {
        "id": "_PO16lN76Isc"
      },
      "source": [
        "Here, KNeighborsClassifier is being used to create an instance of the KNN algorithm.\n",
        "* n_neighbors=3 specifies that the algorithm should consider the 3 nearest neighbors for making predictions. This is a key parameter in KNN, determining how many neighboring points are used to classify a new point.\n",
        "\n",
        "The fit method is used to train the KNN model on your dataset.\n",
        "* X_data contains the features (independent variables) of your dataset, and y_data contains the target (dependent variable) you want to predict.\n",
        "* By fitting the model to your data, the algorithm is essentially learning from the existing data points to make future predictions.\n",
        "\n",
        "After the model is trained, the predict method is used to make predictions on the same dataset (X_data).\n",
        "* The output y_pred contains the predicted values for the target variable based on the learned patterns in the training phase.\n",
        "* It’s important to note that in practice, predictions are usually made on a separate testing dataset, not on the same dataset used for training.\n",
        "* Predicting on the training data can give overly optimistic estimates of model performance due to overfitting."
      ]
    },
    {
      "cell_type": "markdown",
      "metadata": {
        "id": "zd_0WCj36Isd"
      },
      "source": [
        "## Step 4\n",
        "\n",
        "Ways to measure error haven't been discussed in class yet, but accuracy is an easy one to understand--it is simply the percent of labels that were correctly predicted (either true or false).\n",
        "\n",
        "* Write a function to calculate accuracy using the actual and predicted labels.\n",
        "* Using the function, calculate the accuracy of this K-nearest neighbors model on the data."
      ]
    },
    {
      "cell_type": "code",
      "execution_count": null,
      "metadata": {
        "ExecuteTime": {
          "end_time": "2021-09-24T17:39:31.808017Z",
          "start_time": "2021-09-24T17:39:31.796497Z"
        },
        "id": "uN0uROjA6Isd"
      },
      "outputs": [],
      "source": [
        "# Function to calculate the % of values that were correctly predicted\n",
        "\n",
        "def accuracy(real, predict):\n",
        "    return sum(real == predict) / float(real.shape[0])"
      ]
    },
    {
      "cell_type": "markdown",
      "metadata": {
        "id": "-R68bBb66Isd"
      },
      "source": [
        "* Function Parameters: The function takes two parameters, real and predict. real represents the actual labels (true values), and predict represents the predicted labels from the model.\n",
        "* Comparing Predictions to Actual Values: The expression real == predict compares the two arrays element-wise and creates a new array of boolean values (True where the predictions match the actual values, and False otherwise).\n",
        "* Summing Correct Predictions: sum(real == predict) sums up these boolean values, effectively counting the number of correct predictions (since True is treated as 1 and False as 0 in Python).\n",
        "* Calculating the Accuracy: This sum is then divided by real.shape[0], which is the total number of instances in the dataset (the number of rows in the real array). The result is the accuracy of the model, which is the proportion of correct predictions over the total number of predictions.\n",
        "Returning the Result: The function then returns this accuracy as a float value."
      ]
    },
    {
      "cell_type": "code",
      "execution_count": null,
      "metadata": {
        "colab": {
          "base_uri": "https://localhost:8080/"
        },
        "id": "v19PUvhb6Isd",
        "outputId": "86bce6b3-ee70-4be5-b6fb-619aa4c443f1"
      },
      "outputs": [
        {
          "output_type": "stream",
          "name": "stdout",
          "text": [
            "0.995844235801139\n"
          ]
        }
      ],
      "source": [
        "#Print the accuracy\n",
        "print(accuracy(y_data, y_pred))"
      ]
    },
    {
      "cell_type": "markdown",
      "metadata": {
        "id": "-ohGitDf6Isd"
      },
      "source": [
        "This function call calculates the accuracy of your model's predictions. It does this by comparing each predicted label (y_pred) with the corresponding actual label (y_data)."
      ]
    },
    {
      "cell_type": "markdown",
      "metadata": {
        "id": "eKhFoYFR6Isd"
      },
      "source": [
        "### Task 1:\n",
        "\n",
        "Try training the model with a K value of 1 and print the accuracy"
      ]
    },
    {
      "cell_type": "code",
      "execution_count": null,
      "metadata": {
        "colab": {
          "base_uri": "https://localhost:8080/"
        },
        "id": "-giDiuv06Isd",
        "outputId": "cdd22295-5a0b-4f8a-e4d3-dd8b872db695"
      },
      "outputs": [
        {
          "output_type": "stream",
          "name": "stdout",
          "text": [
            "0.995844235801139\n"
          ]
        }
      ],
      "source": [
        "#Task 1\n",
        "knn = KNeighborsClassifier(n_neighbors=3)\n",
        "\n",
        "knn = knn.fit(x_data, y_data)\n",
        "\n",
        "y_pred = knn.predict(x_data)\n",
        "\n",
        "#Print the accuracy\n",
        "print(accuracy(y_data, y_pred))"
      ]
    },
    {
      "cell_type": "markdown",
      "metadata": {
        "id": "xFLo1shU6Isd"
      },
      "source": [
        "* Why did changing the K value to 1 result in this accuracy?\n",
        "* Is there an issue with this?"
      ]
    },
    {
      "cell_type": "markdown",
      "metadata": {
        "id": "fZCuXIG06Isd"
      },
      "source": [
        "## Step 5\n",
        "\n",
        "* Fit the K-nearest neighbors model again with `n_neighbors=3` but this time use distance for the weights. Calculate the accuracy using the function you created above.\n",
        "* Fit another K-nearest neighbors model. This time use uniform weights but set the power parameter for the Minkowski distance metric to be 1 (`p=1`) i.e. Manhattan Distance.\n",
        "\n",
        "When weighted distances are used for part 1 of this question, a value of 1.0 should be returned for the accuracy. Why do you think this is? *Hint:* we are predicting on the data and with KNN the model *is* the data. We will learn how to avoid this pitfall in the next lecture."
      ]
    },
    {
      "cell_type": "code",
      "execution_count": null,
      "metadata": {
        "colab": {
          "base_uri": "https://localhost:8080/"
        },
        "id": "AYgkjT-O-Nag",
        "outputId": "c06c8787-dcae-4ed7-c85f-eb43d06eb321"
      },
      "outputs": [
        {
          "output_type": "stream",
          "name": "stdout",
          "text": [
            "0.9996921656148992\n"
          ]
        }
      ],
      "source": [
        "#\n",
        "#Task 1.5\n",
        "#\n",
        "\n",
        "knn = KNeighborsClassifier(n_neighbors=3, weights='distance')\n",
        "\n",
        "knn = knn.fit(x_data, y_data)\n",
        "\n",
        "y_pred = knn.predict(x_data)\n",
        "\n",
        "#Print the accuracy\n",
        "print(accuracy(y_data, y_pred))"
      ]
    },
    {
      "cell_type": "markdown",
      "metadata": {
        "id": "v4hvlfdZ6Isd"
      },
      "source": [
        "This initializes a KNN classifier with n_neighbors=3, which means the classifier considers the 3 nearest neighbors for making predictions.\n",
        "* The weights='distance' parameter configures the classifier to weigh the contributions of the neighbors by the inverse of their distance. This means closer neighbors will have a greater influence on the classification than further ones.\n",
        "\n",
        "The fit method is used to train the KNN model on your dataset (X_data as features and y_data as the target variable).\n",
        "\n",
        "After training, the predict method is used to make predictions on the dataset X_data.\n",
        "* The predictions are stored in y_pred.\n",
        "\n",
        "The accuracy function you defined earlier is used to calculate the model's accuracy, with y_data as the actual labels and y_pred as the predicted labels.\n",
        "* The calculated accuracy is then printed."
      ]
    },
    {
      "cell_type": "code",
      "execution_count": null,
      "metadata": {
        "colab": {
          "base_uri": "https://localhost:8080/"
        },
        "id": "6ynRToiK6Ise",
        "outputId": "ad1632b3-30e2-4497-de66-0975b9b96a53"
      },
      "outputs": [
        {
          "output_type": "stream",
          "name": "stdout",
          "text": [
            "0.9941511466830845\n"
          ]
        }
      ],
      "source": [
        "#Task 2\n",
        "#Train the model with a K value (n_neighbors) of 5 and a Minkowski value (p) of 2\n",
        "knn = KNeighborsClassifier(n_neighbors=5, p=2)\n",
        "\n",
        "knn = knn.fit(x_data, y_data)\n",
        "\n",
        "y_pred = knn.predict(x_data)\n",
        "\n",
        "#Print the accuracy\n",
        "print(accuracy(y_data, y_pred))\n"
      ]
    },
    {
      "cell_type": "markdown",
      "metadata": {
        "id": "bPJnaStU6Ise"
      },
      "source": [
        "p=2: This parameter determines the power parameter for the Minkowski metric, which is the distance metric used by KNN. When p=2, the Minkowski metric becomes equivalent to the Euclidean distance.\n",
        "* The Euclidean distance is the most common choice and is effective in many cases. It's calculated as the square root of the sum of the squared differences between corresponding elements of the vectors."
      ]
    },
    {
      "cell_type": "code",
      "execution_count": null,
      "metadata": {
        "colab": {
          "base_uri": "https://localhost:8080/"
        },
        "id": "yYbwSSEC6Ise",
        "outputId": "42c5e801-fdcc-476c-d1b2-1d106b7d7969"
      },
      "outputs": [
        {
          "output_type": "stream",
          "name": "stdout",
          "text": [
            "0.9956903186085886\n"
          ]
        }
      ],
      "source": [
        "#Task 3\n",
        "#Train the modeul with a K value (n_neighbors) of 5 and a Minkowski value (p) of 1\n",
        "knn = KNeighborsClassifier(n_neighbors=5, p=1)\n",
        "\n",
        "knn = knn.fit(x_data, y_data)\n",
        "\n",
        "y_pred = knn.predict(x_data)\n",
        "\n",
        "#Print the accuracy\n",
        "print(accuracy(y_data, y_pred))"
      ]
    },
    {
      "cell_type": "markdown",
      "metadata": {
        "id": "pzX3-D556Ise"
      },
      "source": [
        "p=1: This parameter changes the power parameter for the Minkowski metric, which is the distance metric used by KNN. When p=1, the Minkowski metric becomes equivalent to the Manhattan distance (also known as the L1 norm or the city block distance).\n",
        "* The Manhattan distance between two points is the sum of the absolute differences of their Cartesian coordinates. It is a different way of measuring distance compared to the Euclidean distance (which is used when p=2).\n",
        "\n",
        "The choice between Manhattan distance (p=1) and Euclidean distance (p=2) depends on the nature of your data and the specific problem you're addressing. Manhattan distance can be more effective in higher-dimensional spaces or in cases where the Euclidean distance can be inflated by outlier values. It's also a common choice for sparse data sets"
      ]
    },
    {
      "cell_type": "markdown",
      "metadata": {
        "id": "zV-MzV9-6Ise"
      },
      "source": [
        "## Step 6\n",
        "\n",
        "* Fit a K-nearest neighbors model using values of `k` (`n_neighbors`) ranging from 1 to 20. Use uniform weights (the default). The coefficient for the Minkowski distance (`p`) can be set to either 1 or 2--just be consistent. Store the accuracy and the value of `k` used from each of these fits in a list or dictionary.\n",
        "* Plot (or view the table of) the `accuracy` vs `k`. What do you notice happens when `k=1`? Why do you think this is? *Hint:* it's for the same reason discussed above."
      ]
    },
    {
      "cell_type": "code",
      "execution_count": null,
      "metadata": {
        "ExecuteTime": {
          "end_time": "2021-09-24T17:40:09.584584Z",
          "start_time": "2021-09-24T17:39:35.726931Z"
        },
        "colab": {
          "base_uri": "https://localhost:8080/"
        },
        "id": "GPhE520P6Ise",
        "outputId": "c55ca775-f733-4885-c262-60e386ebcb80"
      },
      "outputs": [
        {
          "output_type": "stream",
          "name": "stdout",
          "text": [
            "0.9996921656148992\n",
            "0.9964599045713406\n",
            "0.995844235801139\n",
            "0.9950746498383869\n",
            "0.9941511466830845\n",
            "0.9927658919501309\n",
            "0.9926119747575805\n",
            "0.9910728028320763\n",
            "0.99245805756503\n",
            "0.9918423887948283\n",
            "0.9923041403724796\n",
            "0.9918423887948283\n",
            "0.9919963059873788\n",
            "0.9915345544097276\n",
            "0.9918423887948283\n",
            "0.991688471602278\n",
            "0.9909188856395259\n",
            "0.9913806372171772\n",
            "0.9913806372171772\n",
            "0.9913806372171772\n"
          ]
        }
      ],
      "source": [
        "# Fit the K-nearest neighbors model with different values of k\n",
        "# Store the accuracy measurement for each k\n",
        "\n",
        "score_list = list()\n",
        "\n",
        "for k in range(1,21):\n",
        "  knn = KNeighborsClassifier(n_neighbors=k)\n",
        "  knn = knn.fit(x_data, y_data)\n",
        "  y_pred = knn.predict(x_data)\n",
        "  score = accuracy(y_data, y_pred)\n",
        "  score_list.append((k, score))\n",
        "  print(score)\n",
        "\n",
        "score_df = pd.DataFrame(score_list, columns= ['k', 'accuracy'])\n"
      ]
    },
    {
      "cell_type": "code",
      "execution_count": null,
      "metadata": {
        "ExecuteTime": {
          "end_time": "2021-09-24T17:40:10.214160Z",
          "start_time": "2021-09-24T17:40:09.587584Z"
        },
        "id": "ZrFkKKO06Ise"
      },
      "outputs": [],
      "source": [
        "# Import libraries to make the plot\n",
        "\n",
        "import matplotlib.pyplot as plt\n",
        "import seaborn as sns\n",
        "\n",
        "%matplotlib inline"
      ]
    },
    {
      "cell_type": "code",
      "execution_count": null,
      "metadata": {
        "id": "JZFEKP6iBH00"
      },
      "outputs": [],
      "source": []
    },
    {
      "cell_type": "code",
      "execution_count": null,
      "metadata": {
        "ExecuteTime": {
          "end_time": "2021-09-24T17:40:10.853317Z",
          "start_time": "2021-09-24T17:40:10.218157Z"
        },
        "colab": {
          "base_uri": "https://localhost:8080/",
          "height": 827
        },
        "id": "tURcAcBL6Isf",
        "outputId": "c7be99fa-4bf1-4cdc-e023-0a4aea9bf358"
      },
      "outputs": [
        {
          "output_type": "execute_result",
          "data": {
            "text/plain": [
              "[<matplotlib.axis.XTick at 0x7dfcaad8b5b0>,\n",
              " <matplotlib.axis.XTick at 0x7dfcaad8b580>,\n",
              " <matplotlib.axis.XTick at 0x7dfcaade7eb0>,\n",
              " <matplotlib.axis.XTick at 0x7dfcaac40790>,\n",
              " <matplotlib.axis.XTick at 0x7dfcaac41240>,\n",
              " <matplotlib.axis.XTick at 0x7dfcaac41cf0>,\n",
              " <matplotlib.axis.XTick at 0x7dfcac5b3be0>,\n",
              " <matplotlib.axis.XTick at 0x7dfcaac40100>,\n",
              " <matplotlib.axis.XTick at 0x7dfcaac42ef0>,\n",
              " <matplotlib.axis.XTick at 0x7dfcaac439a0>,\n",
              " <matplotlib.axis.XTick at 0x7dfcaac68490>,\n",
              " <matplotlib.axis.XTick at 0x7dfcaac43250>,\n",
              " <matplotlib.axis.XTick at 0x7dfcaac68e20>,\n",
              " <matplotlib.axis.XTick at 0x7dfcaac698d0>,\n",
              " <matplotlib.axis.XTick at 0x7dfcaac6a380>,\n",
              " <matplotlib.axis.XTick at 0x7dfcaac6ae30>,\n",
              " <matplotlib.axis.XTick at 0x7dfcaac69f60>,\n",
              " <matplotlib.axis.XTick at 0x7dfcaac6b850>,\n",
              " <matplotlib.axis.XTick at 0x7dfcaac80340>,\n",
              " <matplotlib.axis.XTick at 0x7dfcaac80df0>]"
            ]
          },
          "metadata": {},
          "execution_count": 20
        },
        {
          "output_type": "display_data",
          "data": {
            "text/plain": [
              "<Figure size 640x480 with 1 Axes>"
            ],
            "image/png": "[encoded data removed]"
          },
          "metadata": {}
        }
      ],
      "source": [
        "#Seaborn\n",
        "\n",
        "sns.set_context('talk')\n",
        "sns.set_style('ticks')\n",
        "sns.set_palette('dark')\n",
        "\n",
        "ax = score_df.set_index('k').plot()\n",
        "ax.set(xlabel= 'k', ylabel= 'accuracy')\n",
        "ax.set_xticks(range(1,21))\n"
      ]
    },
    {
      "cell_type": "code",
      "execution_count": null,
      "metadata": {
        "id": "0WrRVWrP6Isf"
      },
      "outputs": [],
      "source": [
        "#matplotlib\n",
        "\n"
      ]
    },
    {
      "cell_type": "code",
      "execution_count": null,
      "metadata": {
        "id": "J5S7U7Sp6Isf"
      },
      "outputs": [],
      "source": [
        "#Print the score data frame"
      ]
    },
    {
      "cell_type": "markdown",
      "metadata": {
        "id": "HZW1Nt1v6Isf"
      },
      "source": [
        "## Analysing the results\n",
        "\n",
        "Accuracy at k=1:\n",
        "\n",
        "* When k=1, the accuracy is 1.0000 (or 100%). This means that the model perfectly classified all instances in the training set. However, this is a typical sign of overfitting, especially in KNN. When k=1, the model simply labels a new instance with the label of its nearest neighbor, which can be highly sensitive to noise in the dataset.\n",
        "\n",
        "Fluctuations in Accuracy:\n",
        "\n",
        "* As k increases from 1 to 20, the accuracy fluctuates, but it's generally lower than when k=1. This fluctuation is normal and indicates how sensitive the KNN model can be to the choice of k.\n",
        "The highest accuracies after k=1 are observed at k=3, k=5, and k=7. These might be considered as potential optimal values for k in terms of accuracy, but they are still significantly lower than the perfect accuracy at k=1, reinforcing the notion that the model with k=1 is overfitting.\n",
        "\n",
        "Decreasing Trend in Accuracy:\n",
        "\n",
        "* There is a general decreasing trend in accuracy as k increases. This could indicate that incorporating more neighbors leads to more 'noise' in the classification decision, or it could reflect that the true decision boundary is more complex than what can be captured by considering too many neighbors.\n",
        "\n",
        "Best Value of k:\n",
        "\n",
        "* The 'best' value of k would balance between avoiding overfitting (which is clearly happening at k=1) and maintaining high accuracy. Based on these results, k=3, k=5, or k=7 could be good candidates. The exact choice might depend on additional factors, like the complexity of the data, the presence of noise, and the specific requirements of the application.\n",
        "\n",
        "Evaluation Method:\n",
        "\n",
        "* It's important to note that these results are based on training and testing on the same dataset. In a practical scenario, you would use a separate test set (or cross-validation) to evaluate the model. This is because evaluating on the training set can give overly optimistic estimates of model performance due to the model's familiarity with the data."
      ]
    }
  ],
  "metadata": {
    "anaconda-cloud": {},
    "colab": {
      "provenance": []
    },
    "kernelspec": {
      "display_name": "Python 3",
      "language": "python",
      "name": "python3"
    },
    "language_info": {
      "codemirror_mode": {
        "name": "ipython",
        "version": 3
      },
      "file_extension": ".py",
      "mimetype": "text/x-python",
      "name": "python",
      "nbconvert_exporter": "python",
      "pygments_lexer": "ipython3",
      "version": "3.10.4"
    },
    "name": "Linear_Regression_and_K_Nearest_Neighbors_Exercises-ANSWERS",
    "notebookId": 2125319687183902
  },
  "nbformat": 4,
  "nbformat_minor": 0
}