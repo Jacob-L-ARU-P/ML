{
  "nbformat": 4,
  "nbformat_minor": 0,
  "metadata": {
    "colab": {
      "provenance": []
    },
    "kernelspec": {
      "name": "python3",
      "display_name": "Python 3"
    },
    "language_info": {
      "name": "python"
    }
  },
  "cells": [
    {
      "cell_type": "code",
      "execution_count": 1,
      "metadata": {
        "colab": {
          "base_uri": "https://localhost:8080/"
        },
        "id": "qE2qH72RRhlt",
        "outputId": "24f0177c-fbbb-4bde-c544-b344fb2b0a55"
      },
      "outputs": [
        {
          "output_type": "stream",
          "name": "stdout",
          "text": [
            "Collecting scikit-learn-intelex\n",
            "  Downloading scikit_learn_intelex-2024.3.0-py310-none-manylinux1_x86_64.whl (137 kB)\n",
            "\u001b[2K     \u001b[90m━━━━━━━━━━━━━━━━━━━━━━━━━━━━━━━━━━━━━━━━\u001b[0m \u001b[32m137.9/137.9 kB\u001b[0m \u001b[31m2.3 MB/s\u001b[0m eta \u001b[36m0:00:00\u001b[0m\n",
            "\u001b[?25hCollecting daal4py==2024.3.0 (from scikit-learn-intelex)\n",
            "  Downloading daal4py-2024.3.0-py310-none-manylinux1_x86_64.whl (10.5 MB)\n",
            "\u001b[2K     \u001b[90m━━━━━━━━━━━━━━━━━━━━━━━━━━━━━━━━━━━━━━━━\u001b[0m \u001b[32m10.5/10.5 MB\u001b[0m \u001b[31m21.1 MB/s\u001b[0m eta \u001b[36m0:00:00\u001b[0m\n",
            "\u001b[?25hRequirement already satisfied: scikit-learn>=0.22 in /usr/local/lib/python3.10/dist-packages (from scikit-learn-intelex) (1.2.2)\n",
            "Collecting daal==2024.3.0 (from daal4py==2024.3.0->scikit-learn-intelex)\n",
            "  Downloading daal-2024.3.0-py2.py3-none-manylinux1_x86_64.whl (63.2 MB)\n",
            "\u001b[2K     \u001b[90m━━━━━━━━━━━━━━━━━━━━━━━━━━━━━━━━━━━━━━━━\u001b[0m \u001b[32m63.2/63.2 MB\u001b[0m \u001b[31m9.3 MB/s\u001b[0m eta \u001b[36m0:00:00\u001b[0m\n",
            "\u001b[?25hRequirement already satisfied: numpy>=1.19 in /usr/local/lib/python3.10/dist-packages (from daal4py==2024.3.0->scikit-learn-intelex) (1.25.2)\n",
            "Requirement already satisfied: tbb==2021.* in /usr/local/lib/python3.10/dist-packages (from daal==2024.3.0->daal4py==2024.3.0->scikit-learn-intelex) (2021.12.0)\n",
            "Requirement already satisfied: scipy>=1.3.2 in /usr/local/lib/python3.10/dist-packages (from scikit-learn>=0.22->scikit-learn-intelex) (1.11.4)\n",
            "Requirement already satisfied: joblib>=1.1.1 in /usr/local/lib/python3.10/dist-packages (from scikit-learn>=0.22->scikit-learn-intelex) (1.4.0)\n",
            "Requirement already satisfied: threadpoolctl>=2.0.0 in /usr/local/lib/python3.10/dist-packages (from scikit-learn>=0.22->scikit-learn-intelex) (3.4.0)\n",
            "Installing collected packages: daal, daal4py, scikit-learn-intelex\n",
            "Successfully installed daal-2024.3.0 daal4py-2024.3.0 scikit-learn-intelex-2024.3.0\n",
            "Requirement already satisfied: six in /usr/local/lib/python3.10/dist-packages (1.16.0)\n"
          ]
        },
        {
          "output_type": "stream",
          "name": "stderr",
          "text": [
            "Intel(R) Extension for Scikit-learn* enabled (https://github.com/intel/scikit-learn-intelex)\n"
          ]
        }
      ],
      "source": [
        "# RUN THIS FIRST\n",
        "# ------------------------------------------------------------------------------\n",
        "# Big ol' block of import and initialising the colab runtime.\n",
        "# Don't forget to add a folder called \"data\", which is where you should\n",
        "# copy your dataset(s) to.\n",
        "# ------------------------------------------------------------------------------\n",
        "# Colab start-bit:\n",
        "# Install scikit-learn-intelex for accelerated scikit-learn operations\n",
        "# (optional, mainly for Colab environments)\n",
        "!pip install scikit-learn-intelex\n",
        "!pip install six\n",
        "# ------------------------------------------------------------------------------\n",
        "import os\n",
        "import six\n",
        "import sys\n",
        "import pydotplus\n",
        "import numpy as np\n",
        "import pandas as pd\n",
        "import matplotlib.pyplot as plt\n",
        "# ------------------------------------------------------------------------------\n",
        "from __future__ import print_function                                           # Ensure compatibility with Python 2 and 3 print function\n",
        "data_path = ['data']                                                            # Define the path where the data is stored\n",
        "# ------------------------------------------------------------------------------\n",
        "from io import StringIO\n",
        "from IPython.display import Image, display                                      # For displaying images and other content in IPython\n",
        "# ------------------------------------------------------------------------------\n",
        "from sklearn.model_selection import StratifiedShuffleSplit                      # For creating stratified splits of the dataset\n",
        "from sklearn.model_selection import GridSearchCV                                # For performing grid search with cross-validation\n",
        "\n",
        "# ------------------------------------------------------------------------------\n",
        "from sklearn.metrics import mean_squared_error                                  # For computing the mean squared error metric\n",
        "from sklearn.metrics import accuracy_score, precision_score                     # For computing classification metrics\n",
        "from sklearn.metrics import recall_score, f1_score\n",
        "from sklearn.metrics import RocCurveDisplay\n",
        "# ------------------------------------------------------------------------------\n",
        "from sklearn.tree import DecisionTreeClassifier                                 # For creating a decision tree classifier model\n",
        "from sklearn.tree import DecisionTreeRegressor                                  # For creating a decision tree regressor model\n",
        "from sklearn.tree import export_graphviz                                        # For exporting the decision tree in DOT format\n",
        "# ------------------------------------------------------------------------------\n",
        "from sklearn import preprocessing\n",
        "from sklearnex import patch_sklearn                                             # Patch scikit-learn with Intel(R) Extension for Scikit-learn for improved performance\n",
        "patch_sklearn()                                                                 # Apply the patch\n",
        "\n",
        "sys.modules['sklearn.externals.six'] = six\n",
        "from six import StringIO\n"
      ]
    },
    {
      "cell_type": "code",
      "source": [
        "# Create the full file paths by joining directory and file names\n",
        "filepath_A = os.sep.join(data_path + ['overtakes_v0_10kSamples_00.csv'])\n",
        "filepath_B = os.sep.join(data_path + ['overtakes_v1_10kSamples_00.csv'])\n",
        "filepath_C = os.sep.join(data_path + ['overtakes_v2_10kSamples_00.csv'])\n",
        "filepath_D = os.sep.join(data_path + ['overtakes_v3_10kSamples_00.csv'])\n",
        "filepath_E = os.sep.join(data_path + ['overtakes_v4_10kSamples_00.csv'])\n",
        "# Load the datasets from the specified files\n",
        "data_A = pd.read_csv(filepath_A, sep=',')\n",
        "data_B = pd.read_csv(filepath_B, sep=',')\n",
        "data_C = pd.read_csv(filepath_C, sep=',')\n",
        "data_D = pd.read_csv(filepath_D, sep=',')\n",
        "data_E = pd.read_csv(filepath_E, sep=',')\n",
        "\n",
        "# Display the first few rows of the datasets\n",
        "print(\"V0:\", data_A.head(), \"\\n\\nV1:\", data_B.head(), \"\\n\\nV2:\", data_C.head(),\n",
        "      \"\\n\\nV3:\", data_D.head(), \"\\n\\nV4:\", data_E.head())"
      ],
      "metadata": {
        "colab": {
          "base_uri": "https://localhost:8080/"
        },
        "id": "lQyK-glTTILj",
        "outputId": "b32d9610-190b-4777-a7a2-33592d45a106"
      },
      "execution_count": 3,
      "outputs": [
        {
          "output_type": "stream",
          "name": "stdout",
          "text": [
            "V0:    InitialSeparationM  OvertakingSpeedMPS  OncomingSpeedMPS  Success\n",
            "0                77.1                36.0               5.0     True\n",
            "1                60.3                23.9              29.7    False\n",
            "2                 2.6                29.8               7.9    False\n",
            "3                44.3                25.3              16.3     True\n",
            "4                15.8                24.3              13.6     True \n",
            "\n",
            "V1:    InitialSeparationM  OvertakingSpeedMPS  OncomingSpeedMPS  Success\n",
            "0                62.3                35.3               0.6     True\n",
            "1               174.4                26.7              16.5    False\n",
            "2               198.1                42.1               5.5     True\n",
            "3                92.6                41.5               5.0     True\n",
            "4                89.1                37.9              14.4     True \n",
            "\n",
            "V2:    InitialSeparationM  OvertakingSpeedMPS  OncomingSpeedMPS  Success\n",
            "0               159.8                36.2              17.4     True\n",
            "1               176.6                31.5              19.9    False\n",
            "2                51.2                43.1               0.6     True\n",
            "3               195.9                37.1              26.5    False\n",
            "4               186.2                31.2              10.8     True \n",
            "\n",
            "V3:    InitialSeparationM  OvertakingSpeedMPS  OncomingSpeedMPS  Success\n",
            "0               196.3                29.9               1.7     True\n",
            "1               107.3                34.9              14.1     True\n",
            "2               173.0                30.1              15.8    False\n",
            "3               137.9                25.1              28.3    False\n",
            "4               195.9                31.7              24.3    False \n",
            "\n",
            "V4:    InitialSeparationM  OvertakingSpeedMPS  OncomingSpeedMPS  Success\n",
            "0               102.6                30.6              25.0     True\n",
            "1               108.8                40.1               1.0     True\n",
            "2               103.4                43.7              27.4    False\n",
            "3               194.4                27.3               5.0     True\n",
            "4               113.5                27.6               2.6     True\n"
          ]
        }
      ]
    },
    {
      "cell_type": "code",
      "source": [
        "# Display the data types of each column in the DataFrames\n",
        "print(\"V0:\\n\",data_A.dtypes, \"\\n\\nV1:\\n\",data_B.dtypes, \"\\n\\nV2:\\n\",\n",
        "      data_C.dtypes, \"\\n\\nV3:\\n\",data_D.dtypes, \"\\n\\nV4:\\n\",data_E.dtypes)"
      ],
      "metadata": {
        "colab": {
          "base_uri": "https://localhost:8080/"
        },
        "id": "fQ_brWNLTaQi",
        "outputId": "542855fb-0d48-4258-e0c0-e6fb539ad2f8"
      },
      "execution_count": 4,
      "outputs": [
        {
          "output_type": "stream",
          "name": "stdout",
          "text": [
            "V0:\n",
            " InitialSeparationM    float64\n",
            "OvertakingSpeedMPS    float64\n",
            "OncomingSpeedMPS      float64\n",
            "Success                  bool\n",
            "dtype: object \n",
            "\n",
            "V1:\n",
            " InitialSeparationM    float64\n",
            "OvertakingSpeedMPS    float64\n",
            "OncomingSpeedMPS      float64\n",
            "Success                  bool\n",
            "dtype: object \n",
            "\n",
            "V2:\n",
            " InitialSeparationM    float64\n",
            "OvertakingSpeedMPS    float64\n",
            "OncomingSpeedMPS      float64\n",
            "Success                  bool\n",
            "dtype: object \n",
            "\n",
            "V3:\n",
            " InitialSeparationM    float64\n",
            "OvertakingSpeedMPS    float64\n",
            "OncomingSpeedMPS      float64\n",
            "Success                  bool\n",
            "dtype: object \n",
            "\n",
            "V4:\n",
            " InitialSeparationM    float64\n",
            "OvertakingSpeedMPS    float64\n",
            "OncomingSpeedMPS      float64\n",
            "Success                  bool\n",
            "dtype: object\n"
          ]
        }
      ]
    },
    {
      "cell_type": "code",
      "source": [
        "# Convert non-numeric column to numeric\n",
        "# Convert the 'SUCCESS' column to numeric values: FALSE to 0 and TRUE to 1\n",
        "data_A['Success'] = data_A.Success.replace('FALSE', 0).replace('TRUE', 1).astype(int)\n",
        "data_B['Success'] = data_B.Success.replace('FALSE', 0).replace('TRUE', 1).astype(int)\n",
        "data_C['Success'] = data_C.Success.replace('FALSE', 0).replace('TRUE', 1).astype(int)\n",
        "data_D['Success'] = data_D.Success.replace('FALSE', 0).replace('TRUE', 1).astype(int)\n",
        "data_E['Success'] = data_E.Success.replace('FALSE', 0).replace('TRUE', 1).astype(int)\n",
        "\n",
        "# Display the data types of each column in the DataFrames\n",
        "print(\"V0:\\n\",data_A.dtypes, \"\\n\\nV1:\\n\",data_B.dtypes, \"\\n\\nV2:\\n\",\n",
        "      data_C.dtypes, \"\\n\\nV3:\\n\",data_D.dtypes, \"\\n\\nV4:\\n\",data_E.dtypes)"
      ],
      "metadata": {
        "id": "nxtL7G7cTe4T",
        "colab": {
          "base_uri": "https://localhost:8080/"
        },
        "outputId": "337d2b24-5bca-40f0-8f26-ca03783d7dae"
      },
      "execution_count": 5,
      "outputs": [
        {
          "output_type": "stream",
          "name": "stdout",
          "text": [
            "V0:\n",
            " InitialSeparationM    float64\n",
            "OvertakingSpeedMPS    float64\n",
            "OncomingSpeedMPS      float64\n",
            "Success                 int64\n",
            "dtype: object \n",
            "\n",
            "V1:\n",
            " InitialSeparationM    float64\n",
            "OvertakingSpeedMPS    float64\n",
            "OncomingSpeedMPS      float64\n",
            "Success                 int64\n",
            "dtype: object \n",
            "\n",
            "V2:\n",
            " InitialSeparationM    float64\n",
            "OvertakingSpeedMPS    float64\n",
            "OncomingSpeedMPS      float64\n",
            "Success                 int64\n",
            "dtype: object \n",
            "\n",
            "V3:\n",
            " InitialSeparationM    float64\n",
            "OvertakingSpeedMPS    float64\n",
            "OncomingSpeedMPS      float64\n",
            "Success                 int64\n",
            "dtype: object \n",
            "\n",
            "V4:\n",
            " InitialSeparationM    float64\n",
            "OvertakingSpeedMPS    float64\n",
            "OncomingSpeedMPS      float64\n",
            "Success                 int64\n",
            "dtype: object\n"
          ]
        }
      ]
    },
    {
      "cell_type": "code",
      "source": [
        "# Display the first few rows of the datasets\n",
        "print(\"V0:\", data_A.head(), \"\\n\\nV1:\", data_B.head(), \"\\n\\nV2:\", data_C.head(),\n",
        "      \"\\n\\nV3:\", data_D.head(), \"\\n\\nV4:\", data_E.head())"
      ],
      "metadata": {
        "colab": {
          "base_uri": "https://localhost:8080/"
        },
        "id": "v3NYYa7LUadC",
        "outputId": "0265e8b8-e712-4098-a532-4f2fdf542959"
      },
      "execution_count": 6,
      "outputs": [
        {
          "output_type": "stream",
          "name": "stdout",
          "text": [
            "V0:    InitialSeparationM  OvertakingSpeedMPS  OncomingSpeedMPS  Success\n",
            "0                77.1                36.0               5.0        1\n",
            "1                60.3                23.9              29.7        0\n",
            "2                 2.6                29.8               7.9        0\n",
            "3                44.3                25.3              16.3        1\n",
            "4                15.8                24.3              13.6        1 \n",
            "\n",
            "V1:    InitialSeparationM  OvertakingSpeedMPS  OncomingSpeedMPS  Success\n",
            "0                62.3                35.3               0.6        1\n",
            "1               174.4                26.7              16.5        0\n",
            "2               198.1                42.1               5.5        1\n",
            "3                92.6                41.5               5.0        1\n",
            "4                89.1                37.9              14.4        1 \n",
            "\n",
            "V2:    InitialSeparationM  OvertakingSpeedMPS  OncomingSpeedMPS  Success\n",
            "0               159.8                36.2              17.4        1\n",
            "1               176.6                31.5              19.9        0\n",
            "2                51.2                43.1               0.6        1\n",
            "3               195.9                37.1              26.5        0\n",
            "4               186.2                31.2              10.8        1 \n",
            "\n",
            "V3:    InitialSeparationM  OvertakingSpeedMPS  OncomingSpeedMPS  Success\n",
            "0               196.3                29.9               1.7        1\n",
            "1               107.3                34.9              14.1        1\n",
            "2               173.0                30.1              15.8        0\n",
            "3               137.9                25.1              28.3        0\n",
            "4               195.9                31.7              24.3        0 \n",
            "\n",
            "V4:    InitialSeparationM  OvertakingSpeedMPS  OncomingSpeedMPS  Success\n",
            "0               102.6                30.6              25.0        1\n",
            "1               108.8                40.1               1.0        1\n",
            "2               103.4                43.7              27.4        0\n",
            "3               194.4                27.3               5.0        1\n",
            "4               113.5                27.6               2.6        1\n"
          ]
        }
      ]
    },
    {
      "cell_type": "code",
      "source": [
        "# Define the feature columns (all columns except 'Success')\n",
        "feature_A_cols = [x for x in data_A.columns if x not in 'Success']\n",
        "feature_B_cols = [x for x in data_B.columns if x not in 'Success']\n",
        "feature_C_cols = [x for x in data_C.columns if x not in 'Success']\n",
        "feature_D_cols = [x for x in data_D.columns if x not in 'Success']\n",
        "feature_E_cols = [x for x in data_E.columns if x not in 'Success']\n",
        "\n",
        "# Pointless Output string\n",
        "print(\"Beep!\")"
      ],
      "metadata": {
        "id": "y6oHiRjCUb0y",
        "colab": {
          "base_uri": "https://localhost:8080/"
        },
        "outputId": "098b96fa-a604-4901-c7b2-4e8885938245"
      },
      "execution_count": 7,
      "outputs": [
        {
          "output_type": "stream",
          "name": "stdout",
          "text": [
            "Beep!\n"
          ]
        }
      ]
    },
    {
      "cell_type": "code",
      "source": [
        "# Initialize StratifiedShuffleSplit object with 1 split, 1000 test size, and a random seed for reproducibility\n",
        "strat_shuff_split = StratifiedShuffleSplit(n_splits=1, test_size=1000, random_state=42)\n",
        "\n",
        "# Generate train and test indices using the stratified shuffle split object\n",
        "train_A_idx, test_A_idx = next(strat_shuff_split.split(data_A[feature_A_cols], data_A['Success']))\n",
        "train_B_idx, test_B_idx = next(strat_shuff_split.split(data_B[feature_B_cols], data_B['Success']))\n",
        "train_C_idx, test_C_idx = next(strat_shuff_split.split(data_C[feature_C_cols], data_C['Success']))\n",
        "train_D_idx, test_D_idx = next(strat_shuff_split.split(data_D[feature_D_cols], data_D['Success']))\n",
        "train_E_idx, test_E_idx = next(strat_shuff_split.split(data_E[feature_E_cols], data_E['Success']))\n",
        "\n",
        "# Slice the data into training and test sets using the generated indices:\n",
        "# V0 train/test data\n",
        "x_A_train = data_A.loc[train_A_idx, feature_A_cols]\n",
        "y_A_train = data_A.loc[train_A_idx, 'Success']\n",
        "x_A_test = data_A.loc[test_A_idx, feature_A_cols]\n",
        "y_A_test = data_A.loc[test_A_idx, 'Success']\n",
        "\n",
        "# V1 train/test data\n",
        "x_B_train = data_B.loc[train_B_idx, feature_B_cols]\n",
        "y_B_train = data_B.loc[train_B_idx, 'Success']\n",
        "x_B_test  = data_B.loc[test_B_idx, feature_B_cols]\n",
        "y_B_test  = data_B.loc[test_B_idx, 'Success']\n",
        "\n",
        "# V2 train/test data\n",
        "x_C_train = data_C.loc[train_C_idx, feature_C_cols]\n",
        "y_C_train = data_C.loc[train_C_idx, 'Success']\n",
        "x_C_test  = data_C.loc[test_C_idx, feature_C_cols]\n",
        "y_C_test  = data_C.loc[test_C_idx, 'Success']\n",
        "\n",
        "# V3 train/test data\n",
        "x_D_train = data_D.loc[train_D_idx, feature_D_cols]\n",
        "y_D_train = data_D.loc[train_D_idx, 'Success']\n",
        "x_D_test  = data_D.loc[test_D_idx, feature_D_cols]\n",
        "y_D_test  = data_D.loc[test_D_idx, 'Success']\n",
        "\n",
        "# V4 train/test data\n",
        "x_E_train = data_E.loc[train_E_idx, feature_E_cols]\n",
        "y_E_train = data_E.loc[train_E_idx, 'Success']\n",
        "x_E_test  = data_E.loc[test_E_idx, feature_E_cols]\n",
        "y_E_test  = data_E.loc[test_E_idx, 'Success']\n",
        "\n",
        "# Pointless Output string\n",
        "print(\"Boop!\")"
      ],
      "metadata": {
        "id": "6MEaYQ0KVW3I",
        "colab": {
          "base_uri": "https://localhost:8080/"
        },
        "outputId": "a828f693-8a61-450e-ffb1-c70d8558593f"
      },
      "execution_count": 8,
      "outputs": [
        {
          "output_type": "stream",
          "name": "stdout",
          "text": [
            "Boop!\n"
          ]
        }
      ]
    },
    {
      "cell_type": "code",
      "source": [
        "# Display the distribution of 'Success' in the Training sets\n",
        "print(\"V0:\", y_A_train.value_counts().sort_index(),\n",
        "      \"\\n\\nV1:\", y_B_train.value_counts().sort_index(),\n",
        "      \"\\n\\nV2:\", y_C_train.value_counts().sort_index(),\n",
        "      \"\\n\\nV3:\", y_D_train.value_counts().sort_index(),\n",
        "      \"\\n\\nV4:\", y_E_train.value_counts().sort_index())"
      ],
      "metadata": {
        "colab": {
          "base_uri": "https://localhost:8080/"
        },
        "id": "Ho4LYGuFVuVZ",
        "outputId": "8080ec6b-e262-43c4-807f-747a4a5bf47c"
      },
      "execution_count": 9,
      "outputs": [
        {
          "output_type": "stream",
          "name": "stdout",
          "text": [
            "V0: Success\n",
            "0    4461\n",
            "1    4539\n",
            "Name: count, dtype: int64 \n",
            "\n",
            "V1: Success\n",
            "0    4784\n",
            "1    4216\n",
            "Name: count, dtype: int64 \n",
            "\n",
            "V2: Success\n",
            "0    4099\n",
            "1    4901\n",
            "Name: count, dtype: int64 \n",
            "\n",
            "V3: Success\n",
            "0    3656\n",
            "1    5344\n",
            "Name: count, dtype: int64 \n",
            "\n",
            "V4: Success\n",
            "0    2739\n",
            "1    6261\n",
            "Name: count, dtype: int64\n"
          ]
        }
      ]
    },
    {
      "cell_type": "code",
      "source": [
        "# Check size of training datasets\n",
        "print(\"Number of values in training datasets:\",\n",
        "      \"\\nV0: \", train_A_idx.size,\n",
        "      \"\\nV1: \", train_B_idx.size,\n",
        "      \"\\nV2: \", train_C_idx.size,\n",
        "      \"\\nV3: \", train_D_idx.size,\n",
        "      \"\\nV4: \", train_E_idx.size)"
      ],
      "metadata": {
        "colab": {
          "base_uri": "https://localhost:8080/"
        },
        "id": "eRW7ncsEPvh_",
        "outputId": "8b90a7a8-2831-4405-a455-7b2e2f16b67a"
      },
      "execution_count": 10,
      "outputs": [
        {
          "output_type": "stream",
          "name": "stdout",
          "text": [
            "Number of values in training datasets: \n",
            "V0:  9000 \n",
            "V1:  9000 \n",
            "V2:  9000 \n",
            "V3:  9000 \n",
            "V4:  9000\n"
          ]
        }
      ]
    },
    {
      "cell_type": "code",
      "source": [
        "# Check size of testing datasets\n",
        "print(\"Number of values in testing dataset:\",\n",
        "      \"\\nV0: \", test_A_idx.size,\n",
        "      \"\\nV1: \", test_B_idx.size,\n",
        "      \"\\nV2: \", test_C_idx.size,\n",
        "      \"\\nV3: \", test_D_idx.size,\n",
        "      \"\\nV4: \", test_E_idx.size)"
      ],
      "metadata": {
        "colab": {
          "base_uri": "https://localhost:8080/"
        },
        "id": "bJbmgGKFQ9Of",
        "outputId": "0089cfe2-d1d3-4540-ddb5-6385a8e5bc89"
      },
      "execution_count": 11,
      "outputs": [
        {
          "output_type": "stream",
          "name": "stdout",
          "text": [
            "Number of values in testing dataset: \n",
            "V0:  1000 \n",
            "V1:  1000 \n",
            "V2:  1000 \n",
            "V3:  1000 \n",
            "V4:  1000\n"
          ]
        }
      ]
    },
    {
      "cell_type": "code",
      "source": [
        "# Display the distribution of 'Success' in the Test sets\n",
        "print(\"V0:\", y_A_test.value_counts().sort_index(),\n",
        "      \"\\n\\nV1:\", y_B_test.value_counts().sort_index(),\n",
        "      \"\\n\\nV2:\", y_C_test.value_counts().sort_index(),\n",
        "      \"\\n\\nV3:\", y_D_test.value_counts().sort_index(),\n",
        "      \"\\n\\nV4:\", y_E_test.value_counts().sort_index())"
      ],
      "metadata": {
        "colab": {
          "base_uri": "https://localhost:8080/"
        },
        "id": "_mIs-l-_RDZu",
        "outputId": "50983d34-f073-4e2d-e1eb-360e6ff7d4ff"
      },
      "execution_count": 12,
      "outputs": [
        {
          "output_type": "stream",
          "name": "stdout",
          "text": [
            "V0: Success\n",
            "0    496\n",
            "1    504\n",
            "Name: count, dtype: int64 \n",
            "\n",
            "V1: Success\n",
            "0    532\n",
            "1    468\n",
            "Name: count, dtype: int64 \n",
            "\n",
            "V2: Success\n",
            "0    455\n",
            "1    545\n",
            "Name: count, dtype: int64 \n",
            "\n",
            "V3: Success\n",
            "0    406\n",
            "1    594\n",
            "Name: count, dtype: int64 \n",
            "\n",
            "V4: Success\n",
            "0    304\n",
            "1    696\n",
            "Name: count, dtype: int64\n"
          ]
        }
      ]
    },
    {
      "cell_type": "code",
      "source": [
        "# Display the normalized distribution of 'Success' in the Test sets\n",
        "print(\"V0: \", y_A_train.value_counts(normalize=True).sort_index(),\n",
        "      \"\\n\\nV1: \", y_B_train.value_counts(normalize=True).sort_index(),\n",
        "      \"\\n\\nV2: \", y_C_train.value_counts(normalize=True).sort_index(),\n",
        "      \"\\n\\nV3: \", y_D_train.value_counts(normalize=True).sort_index(),\n",
        "      \"\\n\\nV4: \", y_E_train.value_counts(normalize=True).sort_index())"
      ],
      "metadata": {
        "colab": {
          "base_uri": "https://localhost:8080/"
        },
        "id": "KtQXc7R5V0M_",
        "outputId": "034867e8-e7cb-4e51-c9f2-6045a649ad68"
      },
      "execution_count": 13,
      "outputs": [
        {
          "output_type": "stream",
          "name": "stdout",
          "text": [
            "V0:  Success\n",
            "0    0.495667\n",
            "1    0.504333\n",
            "Name: proportion, dtype: float64 \n",
            "\n",
            "V1:  Success\n",
            "0    0.531556\n",
            "1    0.468444\n",
            "Name: proportion, dtype: float64 \n",
            "\n",
            "V2:  Success\n",
            "0    0.455444\n",
            "1    0.544556\n",
            "Name: proportion, dtype: float64 \n",
            "\n",
            "V3:  Success\n",
            "0    0.406222\n",
            "1    0.593778\n",
            "Name: proportion, dtype: float64 \n",
            "\n",
            "V4:  Success\n",
            "0    0.304333\n",
            "1    0.695667\n",
            "Name: proportion, dtype: float64\n"
          ]
        }
      ]
    },
    {
      "cell_type": "code",
      "source": [
        "# Initialize and train a group of DecisionTreeClassifiers\n",
        "# ------------------------------------------------------------------------------\n",
        "# V0\n",
        "dt_A = DecisionTreeClassifier(random_state=42)\n",
        "dt_A = dt_A.fit(x_A_train, y_A_train)\n",
        "# ------------------------------------------------------------------------------\n",
        "# V1\n",
        "dt_B = DecisionTreeClassifier(random_state=42)\n",
        "dt_B = dt_B.fit(x_B_train, y_B_train)\n",
        "# ------------------------------------------------------------------------------\n",
        "# V2\n",
        "dt_C = DecisionTreeClassifier(random_state=42)\n",
        "dt_C = dt_C.fit(x_C_train, y_C_train)\n",
        "# ------------------------------------------------------------------------------\n",
        "# V3\n",
        "dt_D = DecisionTreeClassifier(random_state=42)\n",
        "dt_D = dt_D.fit(x_D_train, y_D_train)\n",
        "# ------------------------------------------------------------------------------\n",
        "# V4\n",
        "dt_E = DecisionTreeClassifier(random_state=42)\n",
        "dt_E = dt_E.fit(x_E_train, y_E_train)"
      ],
      "metadata": {
        "id": "w210XgExV36_"
      },
      "execution_count": 14,
      "outputs": []
    },
    {
      "cell_type": "code",
      "source": [
        "# Display the number of nodes and the maximum depth of the trained tree\n",
        "print(\"\\nV0 Tree: \", dt_A.tree_.node_count, dt_A.tree_.max_depth,\n",
        "      \"\\nV1 Tree: \", dt_B.tree_.node_count, dt_B.tree_.max_depth,\n",
        "      \"\\nV2 Tree: \", dt_C.tree_.node_count, dt_C.tree_.max_depth,\n",
        "      \"\\nV3 Tree: \", dt_D.tree_.node_count, dt_D.tree_.max_depth,\n",
        "      \"\\nV4 Tree: \", dt_E.tree_.node_count, dt_E.tree_.max_depth)"
      ],
      "metadata": {
        "colab": {
          "base_uri": "https://localhost:8080/"
        },
        "id": "9cZfXgiXV6nH",
        "outputId": "9858c9ce-5d2d-4fba-edff-67f2e0c51e57"
      },
      "execution_count": 15,
      "outputs": [
        {
          "output_type": "stream",
          "name": "stdout",
          "text": [
            "\n",
            "V0 Tree:  6215 51 \n",
            "V1 Tree:  1291 25 \n",
            "V2 Tree:  3991 38 \n",
            "V3 Tree:  3367 38 \n",
            "V4 Tree:  4989 41\n"
          ]
        }
      ]
    },
    {
      "cell_type": "code",
      "source": [
        "# Define a function to calculate and return error metrics\n",
        "def measure_error(y_true, y_pred, label):\n",
        "    return pd.Series({'accuracy':accuracy_score(y_true, y_pred),\n",
        "                      'precision': precision_score(y_true, y_pred),\n",
        "                      'recall': recall_score(y_true, y_pred),\n",
        "                      'f1': f1_score(y_true, y_pred)},\n",
        "                      name=label)"
      ],
      "metadata": {
        "id": "6JlxTcbnWAJn"
      },
      "execution_count": 16,
      "outputs": []
    },
    {
      "cell_type": "code",
      "source": [
        "# Format Testing Block\n",
        "'''\n",
        "# Predict on training and test sets\n",
        "y_A_train_pred = dt_A.predict(x_A_train)\n",
        "y_A_test_pred  = dt_A.predict(x_A_test)\n",
        "\n",
        "# Calculate error metrics for both sets and concatenate the results\n",
        "train_test_full_error_A = pd.concat([measure_error(y_A_train, y_A_train_pred, 'train'),\n",
        "                                   measure_error(y_A_test, y_A_test_pred, 'test')],\n",
        "                                   axis=1)\n",
        "\n",
        "# Display the error metrics\n",
        "print(\"V0:\\t    Error Metrics\")\n",
        "print(train_test_full_error_A)\n",
        "'''\n",
        "\n",
        "# Pointless Output string\n",
        "print(\"Bleop!\")"
      ],
      "metadata": {
        "colab": {
          "base_uri": "https://localhost:8080/"
        },
        "id": "Y9_q6S2NWLj7",
        "outputId": "b65d98bc-1cb9-497d-b615-aaac5812dab1"
      },
      "execution_count": 17,
      "outputs": [
        {
          "output_type": "stream",
          "name": "stdout",
          "text": [
            "Bleop!\n"
          ]
        }
      ]
    },
    {
      "cell_type": "code",
      "source": [
        "# Predict on training and test sets\n",
        "# ------------------------------------------------------------------------------\n",
        "# V0:\n",
        "y_A_train_pred = dt_A.predict(x_A_train)\n",
        "y_A_test_pred  = dt_A.predict(x_A_test)\n",
        "# ------------------------------------------------------------------------------\n",
        "# V1:\n",
        "y_B_train_pred = dt_B.predict(x_B_train)\n",
        "y_B_test_pred  = dt_B.predict(x_B_test)\n",
        "# ------------------------------------------------------------------------------\n",
        "# V2:\n",
        "y_C_train_pred = dt_C.predict(x_C_train)\n",
        "y_C_test_pred  = dt_C.predict(x_C_test)\n",
        "# ------------------------------------------------------------------------------\n",
        "# V3:\n",
        "y_D_train_pred = dt_D.predict(x_D_train)\n",
        "y_D_test_pred  = dt_D.predict(x_D_test)\n",
        "# ------------------------------------------------------------------------------\n",
        "# V4:\n",
        "y_E_train_pred = dt_E.predict(x_E_train)\n",
        "y_E_test_pred  = dt_E.predict(x_E_test)\n",
        "# ------------------------------------------------------------------------------\n",
        "# Calculate error metrics for both sets and concatenate the results\n",
        "# ------------------------------------------------------------------------------\n",
        "# V0:\n",
        "train_test_full_error_A = pd.concat([measure_error(y_A_train, y_A_train_pred, 'train'),\n",
        "                                     measure_error(y_A_test,  y_A_test_pred, 'test')],\n",
        "                                     axis=1)\n",
        "# ------------------------------------------------------------------------------\n",
        "# V1:\n",
        "train_test_full_error_B = pd.concat([measure_error(y_B_train, y_B_train_pred, 'train'),\n",
        "                                     measure_error(y_B_test,  y_B_test_pred, 'test')],\n",
        "                                     axis=1)\n",
        "# ------------------------------------------------------------------------------\n",
        "# V2:\n",
        "train_test_full_error_C = pd.concat([measure_error(y_C_train, y_C_train_pred, 'train'),\n",
        "                                     measure_error(y_C_test,  y_C_test_pred, 'test')],\n",
        "                                     axis=1)\n",
        "# ------------------------------------------------------------------------------\n",
        "# V3:\n",
        "train_test_full_error_D = pd.concat([measure_error(y_D_train, y_D_train_pred, 'train'),\n",
        "                                     measure_error(y_D_test,  y_D_test_pred, 'test')],\n",
        "                                     axis=1)\n",
        "# ------------------------------------------------------------------------------\n",
        "# V4:\n",
        "train_test_full_error_E = pd.concat([measure_error(y_E_train, y_E_train_pred, 'train'),\n",
        "                                     measure_error(y_E_test,  y_E_test_pred, 'test')],\n",
        "                                     axis=1)\n",
        "# ------------------------------------------------------------------------------\n",
        "# Display the error metrics\n",
        "print(\"V0:\\t    Error Metrics\")\n",
        "print(train_test_full_error_A)\n",
        "print(\"\\nV1:\\t    Error Metrics\")\n",
        "print(train_test_full_error_B)\n",
        "print(\"\\nV2:\\t    Error Metrics\")\n",
        "print(train_test_full_error_C)\n",
        "print(\"\\nV3:\\t    Error Metrics\")\n",
        "print(train_test_full_error_D)\n",
        "print(\"\\nV4:\\t    Error Metrics\")\n",
        "print(train_test_full_error_E)"
      ],
      "metadata": {
        "colab": {
          "base_uri": "https://localhost:8080/"
        },
        "id": "dRJha5mLyu4v",
        "outputId": "ef2980ab-ab92-4f76-84e9-b336a041fdac"
      },
      "execution_count": 18,
      "outputs": [
        {
          "output_type": "stream",
          "name": "stdout",
          "text": [
            "V0:\t    Error Metrics\n",
            "           train      test\n",
            "accuracy     1.0  0.541000\n",
            "precision    1.0  0.545825\n",
            "recall       1.0  0.531746\n",
            "f1           1.0  0.538693\n",
            "\n",
            "V1:\t    Error Metrics\n",
            "           train      test\n",
            "accuracy     1.0  0.884000\n",
            "precision    1.0  0.879310\n",
            "recall       1.0  0.871795\n",
            "f1           1.0  0.875536\n",
            "\n",
            "V2:\t    Error Metrics\n",
            "           train      test\n",
            "accuracy     1.0  0.736000\n",
            "precision    1.0  0.757798\n",
            "recall       1.0  0.757798\n",
            "f1           1.0  0.757798\n",
            "\n",
            "V3:\t    Error Metrics\n",
            "           train      test\n",
            "accuracy     1.0  0.787000\n",
            "precision    1.0  0.825641\n",
            "recall       1.0  0.813131\n",
            "f1           1.0  0.819338\n",
            "\n",
            "V4:\t    Error Metrics\n",
            "           train      test\n",
            "accuracy     1.0  0.654000\n",
            "precision    1.0  0.760417\n",
            "recall       1.0  0.734195\n",
            "f1           1.0  0.747076\n"
          ]
        }
      ]
    },
    {
      "cell_type": "code",
      "source": [
        "# Define a parameter grid for GridSearchCV\n",
        "# ------------------------------------------------------------------------------\n",
        "# V0:\n",
        "param_grid_A = { 'max_depth' : range(1, dt_A.tree_.max_depth+1, 2),\n",
        "              'max_features': range(1, len(dt_A.feature_importances_)+1)}\n",
        "# ------------------------------------------------------------------------------\n",
        "# V1:\n",
        "param_grid_B = { 'max_depth' : range(1, dt_B.tree_.max_depth+1, 2),\n",
        "              'max_features': range(1, len(dt_B.feature_importances_)+1)}\n",
        "# ------------------------------------------------------------------------------\n",
        "# V2:\n",
        "param_grid_C = { 'max_depth' : range(1, dt_C.tree_.max_depth+1, 2),\n",
        "              'max_features': range(1, len(dt_C.feature_importances_)+1)}\n",
        "# ------------------------------------------------------------------------------\n",
        "# V3:\n",
        "param_grid_D = { 'max_depth' : range(1, dt_D.tree_.max_depth+1, 2),\n",
        "              'max_features': range(1, len(dt_D.feature_importances_)+1)}\n",
        "# ------------------------------------------------------------------------------\n",
        "# V4:\n",
        "param_grid_E = { 'max_depth' : range(1, dt_E.tree_.max_depth+1, 2),\n",
        "              'max_features': range(1, len(dt_E.feature_importances_)+1)}\n",
        "# ------------------------------------------------------------------------------\n",
        "# Initialize and fit a GridSearchCV with a DecisionTreeClassifier\n",
        "# ------------------------------------------------------------------------------\n",
        "# V0:\n",
        "GR_A = GridSearchCV(DecisionTreeClassifier(random_state=42),\n",
        "                  param_grid = param_grid_A,\n",
        "                  scoring= 'accuracy',\n",
        "                  n_jobs= -1)\n",
        "GR_A = GR_A.fit(x_A_train, y_A_train)\n",
        "# ------------------------------------------------------------------------------\n",
        "# V1:\n",
        "GR_B = GridSearchCV(DecisionTreeClassifier(random_state=42),\n",
        "                  param_grid = param_grid_B,\n",
        "                  scoring= 'accuracy',\n",
        "                  n_jobs= -1)\n",
        "GR_B = GR_B.fit(x_B_train, y_B_train)\n",
        "# ------------------------------------------------------------------------------\n",
        "# V2:\n",
        "GR_C = GridSearchCV(DecisionTreeClassifier(random_state=42),\n",
        "                  param_grid = param_grid_C,\n",
        "                  scoring= 'accuracy',\n",
        "                  n_jobs= -1)\n",
        "GR_C = GR_C.fit(x_C_train, y_C_train)\n",
        "# ------------------------------------------------------------------------------\n",
        "# V3:\n",
        "GR_D = GridSearchCV(DecisionTreeClassifier(random_state=42),\n",
        "                  param_grid = param_grid_D,\n",
        "                  scoring= 'accuracy',\n",
        "                  n_jobs= -1)\n",
        "GR_D = GR_D.fit(x_D_train, y_D_train)\n",
        "# ------------------------------------------------------------------------------\n",
        "# V4:\n",
        "GR_E = GridSearchCV(DecisionTreeClassifier(random_state=42),\n",
        "                  param_grid = param_grid_E,\n",
        "                  scoring= 'accuracy',\n",
        "                  n_jobs= -1)\n",
        "GR_E = GR_E.fit(x_E_train, y_E_train)\n",
        "# ------------------------------------------------------------------------------\n",
        "# Pointless Output string\n",
        "print(\"Beep Boop!\")"
      ],
      "metadata": {
        "id": "yRrxbobSWUs1",
        "colab": {
          "base_uri": "https://localhost:8080/"
        },
        "outputId": "e483cfd6-9283-4e04-b845-928fc298348e"
      },
      "execution_count": 19,
      "outputs": [
        {
          "output_type": "stream",
          "name": "stdout",
          "text": [
            "Beep Boop!\n"
          ]
        }
      ]
    },
    {
      "cell_type": "code",
      "source": [
        "# Display node count and max depth of best estimator\n",
        "print(\"V0 Best Estimators:\", GR_A.best_estimator_.tree_.node_count, GR_A.best_estimator_.tree_.max_depth,\n",
        "      \"\\nV1 Best Estimators:\", GR_B.best_estimator_.tree_.node_count, GR_B.best_estimator_.tree_.max_depth,\n",
        "      \"\\nV2 Best Estimators:\", GR_C.best_estimator_.tree_.node_count, GR_C.best_estimator_.tree_.max_depth,\n",
        "      \"\\nV3 Best Estimators:\", GR_D.best_estimator_.tree_.node_count, GR_D.best_estimator_.tree_.max_depth,\n",
        "      \"\\nV4 Best Estimators:\", GR_E.best_estimator_.tree_.node_count, GR_E.best_estimator_.tree_.max_depth)"
      ],
      "metadata": {
        "colab": {
          "base_uri": "https://localhost:8080/"
        },
        "id": "flxodp3jWdN9",
        "outputId": "ead818df-5f18-4ab7-a7c1-6759b093593b"
      },
      "execution_count": 22,
      "outputs": [
        {
          "output_type": "stream",
          "name": "stdout",
          "text": [
            "V0 Best Estimators: 1733 15 \n",
            "V1 Best Estimators: 55 5 \n",
            "V2 Best Estimators: 63 5 \n",
            "V3 Best Estimators: 3 1 \n",
            "V4 Best Estimators: 3 1\n"
          ]
        }
      ]
    },
    {
      "cell_type": "code",
      "source": [
        "# Predict on training and test sets using the best estimator from GridSearchCV\n",
        "# ------------------------------------------------------------------------------\n",
        "# V0:\n",
        "y_A_train_pred_gr = GR_A.predict(x_A_train)\n",
        "y_A_test_pred_gr  = GR_A.predict(x_A_test)\n",
        "# ------------------------------------------------------------------------------\n",
        "# V1:\n",
        "y_B_train_pred_gr = GR_B.predict(x_B_train)\n",
        "y_B_test_pred_gr  = GR_B.predict(x_B_test)\n",
        "# ------------------------------------------------------------------------------\n",
        "# V2:\n",
        "y_C_train_pred_gr = GR_C.predict(x_C_train)\n",
        "y_C_test_pred_gr  = GR_C.predict(x_C_test)\n",
        "# ------------------------------------------------------------------------------\n",
        "# V3:\n",
        "y_D_train_pred_gr = GR_D.predict(x_D_train)\n",
        "y_D_test_pred_gr  = GR_D.predict(x_D_test)\n",
        "# ------------------------------------------------------------------------------\n",
        "# V4:\n",
        "y_E_train_pred_gr = GR_E.predict(x_E_train)\n",
        "y_E_test_pred_gr  = GR_E.predict(x_E_test)\n",
        "# ------------------------------------------------------------------------------\n",
        "# Calculate and display error metrics for both sets using the best estimator\n",
        "# ------------------------------------------------------------------------------\n",
        "# V0:\n",
        "train_test_gr_error_A = pd.concat([measure_error(y_A_train, y_A_train_pred_gr, 'train'),\n",
        "                                   measure_error(y_A_test,  y_A_test_pred_gr, 'test')],\n",
        "                                   axis= 1)\n",
        "# ------------------------------------------------------------------------------\n",
        "# V1:\n",
        "train_test_gr_error_B = pd.concat([measure_error(y_B_train, y_B_train_pred_gr, 'train'),\n",
        "                                   measure_error(y_B_test,  y_B_test_pred_gr, 'test')],\n",
        "                                   axis= 1)\n",
        "# ------------------------------------------------------------------------------\n",
        "# V2:\n",
        "train_test_gr_error_C = pd.concat([measure_error(y_C_train, y_C_train_pred_gr, 'train'),\n",
        "                                   measure_error(y_C_test,  y_C_test_pred_gr, 'test')],\n",
        "                                   axis= 1)\n",
        "# ------------------------------------------------------------------------------\n",
        "# V3:\n",
        "train_test_gr_error_D = pd.concat([measure_error(y_D_train, y_D_train_pred_gr, 'train'),\n",
        "                                   measure_error(y_D_test,  y_D_test_pred_gr, 'test')],\n",
        "                                   axis= 1)\n",
        "# ------------------------------------------------------------------------------\n",
        "# V4:\n",
        "train_test_gr_error_E = pd.concat([measure_error(y_E_train, y_E_train_pred_gr, 'train'),\n",
        "                                   measure_error(y_E_test,  y_E_test_pred_gr, 'test')],\n",
        "                                   axis= 1)\n",
        "# ------------------------------------------------------------------------------\n",
        "# Display the error metrics\n",
        "print(\"V0:\\t       Error Metrics\")\n",
        "print(train_test_gr_error_A)\n",
        "print(\"\\nV1:\\t       Error Metrics\")\n",
        "print(train_test_gr_error_B)\n",
        "print(\"\\nV2:\\t       Error Metrics\")\n",
        "print(train_test_gr_error_C)\n",
        "print(\"\\nV3:\\t       Error Metrics\")\n",
        "print(train_test_gr_error_D)\n",
        "print(\"\\nV4:\\t       Error Metrics\")\n",
        "print(train_test_gr_error_E)"
      ],
      "metadata": {
        "colab": {
          "base_uri": "https://localhost:8080/"
        },
        "id": "D-OT20l9Wfqg",
        "outputId": "e544ed67-dd4d-4b73-87b7-a34b9ac9e0ae"
      },
      "execution_count": 20,
      "outputs": [
        {
          "output_type": "stream",
          "name": "stdout",
          "text": [
            "V0:\t       Error Metrics\n",
            "              train      test\n",
            "accuracy   0.661333  0.507000\n",
            "precision  0.651371  0.510055\n",
            "recall     0.706764  0.553571\n",
            "f1         0.677937  0.530923\n",
            "\n",
            "V1:\t       Error Metrics\n",
            "              train      test\n",
            "accuracy   0.932222  0.908000\n",
            "precision  0.916205  0.883673\n",
            "recall     0.941414  0.925214\n",
            "f1         0.928638  0.903967\n",
            "\n",
            "V2:\t       Error Metrics\n",
            "              train      test\n",
            "accuracy   0.786000  0.768000\n",
            "precision  0.820375  0.799235\n",
            "recall     0.777188  0.766972\n",
            "f1         0.798198  0.782772\n",
            "\n",
            "V3:\t       Error Metrics\n",
            "              train      test\n",
            "accuracy   0.861556  0.871000\n",
            "precision  0.842986  0.849624\n",
            "recall     0.942365  0.951178\n",
            "f1         0.889910  0.897538\n",
            "\n",
            "V4:\t       Error Metrics\n",
            "              train      test\n",
            "accuracy   0.728556  0.737000\n",
            "precision  0.814084  0.824588\n",
            "recall     0.790289  0.790230\n",
            "f1         0.802010  0.807043\n"
          ]
        }
      ]
    },
    {
      "cell_type": "code",
      "source": [
        "# CSV headings, excluding \"Success\". value_2 includes V4 debug headings.\n",
        "value_1 = ['InitialSeparationM', 'OvertakingSpeedMPS', 'OncomingSpeedMPS']\n",
        "'''\n",
        "value_2 = ['InitialSeparationM', 'OvertakingSpeedMPS', 'OncomingSpeedMPS',\n",
        "           'VehicleBeingOvertakenSpeedMPS', 'WindSpeedMPS',\n",
        "           'FrictionCoefficient', 'RoadCondition']\n",
        "'''\n",
        "\n",
        "# Visualising a Decision Tree\n",
        "# Trees as calculated earlier are a little on the big side\n",
        "\n",
        "dot_data = StringIO()\n",
        "export_graphviz(GR_D.best_estimator_, out_file= dot_data,\n",
        "filled= True, rounded= True,\n",
        "special_characters= True, feature_names= value_1, class_names= ['0','1'])\n",
        "graph = pydotplus.graph_from_dot_data(dot_data.getvalue())\n",
        "graph.write_png('DoOvertake.png')\n",
        "Image(graph.create_png())"
      ],
      "metadata": {
        "colab": {
          "base_uri": "https://localhost:8080/",
          "height": 277
        },
        "id": "rz18XsQQ4wm5",
        "outputId": "80a6d891-fa29-404b-a7f9-4dffd4d8e97a"
      },
      "execution_count": 21,
      "outputs": [
        {
          "output_type": "execute_result",
          "data": {
            "image/png": "[encoded data removed]",
            "text/plain": [
              "<IPython.core.display.Image object>"
            ]
          },
          "metadata": {},
          "execution_count": 21
        }
      ]
    },
    {
      "cell_type": "markdown",
      "source": [
        "Decision Tree Regressor Block"
      ],
      "metadata": {
        "id": "jwlksH7n_MVP"
      }
    },
    {
      "cell_type": "code",
      "source": [
        "# Decision Tree Regressor Code, combined block, might need later so not\n",
        "# outright deleting.\n",
        "\n",
        "'''\n",
        "# Exclude 'InitialSeparationM' from feature columns for regression task\n",
        "feature_cols = [x for x in data.columns if x != 'InitialSeparationM']\n",
        "\n",
        "# Slice the data into new training and test sets for regression task\n",
        "x_train = data.loc[train_idx, feature_cols]\n",
        "y_train = data.loc[train_idx, 'InitialSeparationM']\n",
        "x_test = data.loc[test_idx, feature_cols]\n",
        "y_test = data.loc[test_idx, 'InitialSeparationM']\n",
        "\n",
        "# Initialize and fit a DecisionTreeRegressor\n",
        "dr = DecisionTreeRegressor().fit(x_train, y_train)\n",
        "# Display the number of nodes and the maximum depth of the trained tree\n",
        "dr.tree_.node_count, dr.tree_.max_depth\n",
        "\n",
        "# Define a parameter grid for GridSearchCV for regression task\n",
        "param_grid = { 'max_depth' : range(1, dr.tree_.max_depth+1, 2),\n",
        "              'max_features': range(1, len(dr.feature_importances_)+1)}\n",
        "\n",
        "# Initialize and fit a GridSearchCV with a DecisionTreeRegressor\n",
        "GR_InitialSeperationM = GridSearchCV(DecisionTreeRegressor(random_state=42),\n",
        "                        param_grid = param_grid,\n",
        "                        scoring= 'neg_mean_squared_error',\n",
        "                        n_jobs= -1)\n",
        "GR_InitialSeperationM = GR.fit(x_train, y_train)\n",
        "'''\n",
        "print(\"Why are you running this cell?\")"
      ],
      "metadata": {
        "id": "1PrCyDh4WiN0"
      },
      "execution_count": null,
      "outputs": []
    },
    {
      "cell_type": "markdown",
      "source": [
        "Hyper-Parameter Tuning"
      ],
      "metadata": {
        "id": "VNq2YBFy_J3d"
      }
    },
    {
      "cell_type": "code",
      "source": [
        "# ------------------------------------------------------------------------------\n",
        "# V4, Revision 1:\n",
        "param_grid_F = { 'max_depth' : range(1, dt_E.tree_.max_depth+1, 2),\n",
        "              'max_features': range(1, len(dt_E.feature_importances_)+1)}\n",
        "\n",
        "GR_F = GridSearchCV(DecisionTreeClassifier(random_state=42),\n",
        "                  param_grid = param_grid_F,\n",
        "                  scoring= 'accuracy',\n",
        "                  n_jobs= -2)\n",
        "GR_F = GR_F.fit(x_E_train, y_E_train)"
      ],
      "metadata": {
        "id": "8bO8A6aW_JdX"
      },
      "execution_count": 39,
      "outputs": []
    },
    {
      "cell_type": "code",
      "source": [
        "# Display node count and max depth of best estimator\n",
        "print(\"V4R1 Best Estimators:\", GR_F.best_estimator_.tree_.node_count, GR_F.best_estimator_.tree_.max_depth)"
      ],
      "metadata": {
        "colab": {
          "base_uri": "https://localhost:8080/"
        },
        "id": "ZN_AQSQlCMni",
        "outputId": "04fe2f9f-af94-42e1-a090-9d0e7669ef21"
      },
      "execution_count": 40,
      "outputs": [
        {
          "output_type": "stream",
          "name": "stdout",
          "text": [
            "V4R1 Best Estimators: 3 1\n"
          ]
        }
      ]
    },
    {
      "cell_type": "code",
      "source": [
        "# V4, Revision 1:\n",
        "train_test_gr_error_F = pd.concat([measure_error(y_E_train, y_E_train_pred_gr, 'train'),\n",
        "                                   measure_error(y_E_test,  y_E_test_pred_gr, 'test')],\n",
        "                                   axis= 1)\n",
        "# ------------------------------------------------------------------------------\n",
        "# Display the error metrics\n",
        "print(\"V4R1:\\t       Error Metrics\")\n",
        "print(train_test_gr_error_A)"
      ],
      "metadata": {
        "colab": {
          "base_uri": "https://localhost:8080/"
        },
        "id": "YwpRnv7dCTkX",
        "outputId": "6db7f77b-57ca-4cb6-debd-8819699f72a3"
      },
      "execution_count": 37,
      "outputs": [
        {
          "output_type": "stream",
          "name": "stdout",
          "text": [
            "V4R1:\t       Error Metrics\n",
            "              train      test\n",
            "accuracy   0.661333  0.507000\n",
            "precision  0.651371  0.510055\n",
            "recall     0.706764  0.553571\n",
            "f1         0.677937  0.530923\n"
          ]
        }
      ]
    }
  ]
}